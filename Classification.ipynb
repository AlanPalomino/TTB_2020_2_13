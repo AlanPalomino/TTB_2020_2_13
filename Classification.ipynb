{
 "cells": [
  {
   "cell_type": "code",
   "execution_count": 2,
   "metadata": {},
   "outputs": [],
   "source": [
    "import pandas as pd\n",
    "import numpy as np\n",
    "from sklearn.linear_model import LogisticRegression\n",
    "from sklearn.model_selection import train_test_split\n",
    "import seaborn as sn\n",
    "from sklearn import metrics\n",
    "import matplotlib.pyplot as plt"
   ]
  },
  {
   "cell_type": "markdown",
   "metadata": {},
   "source": [
    "<h2>Import data set<h2>"
   ]
  },
  {
   "cell_type": "code",
   "execution_count": 3,
   "metadata": {},
   "outputs": [
    {
     "data": {
      "text/html": [
       "<div>\n",
       "<style scoped>\n",
       "    .dataframe tbody tr th:only-of-type {\n",
       "        vertical-align: middle;\n",
       "    }\n",
       "\n",
       "    .dataframe tbody tr th {\n",
       "        vertical-align: top;\n",
       "    }\n",
       "\n",
       "    .dataframe thead th {\n",
       "        text-align: right;\n",
       "    }\n",
       "</style>\n",
       "<table border=\"1\" class=\"dataframe\">\n",
       "  <thead>\n",
       "    <tr style=\"text-align: right;\">\n",
       "      <th></th>\n",
       "      <th>case</th>\n",
       "      <th>record</th>\n",
       "      <th>cond</th>\n",
       "      <th>ae_m</th>\n",
       "      <th>ae_v</th>\n",
       "      <th>se_m</th>\n",
       "      <th>se_v</th>\n",
       "      <th>hfd_m</th>\n",
       "      <th>hfd_v</th>\n",
       "      <th>dfa_m</th>\n",
       "      <th>dfa_v</th>\n",
       "      <th>psd_m</th>\n",
       "      <th>psd_v</th>\n",
       "      <th>Unnamed: 0</th>\n",
       "    </tr>\n",
       "  </thead>\n",
       "  <tbody>\n",
       "    <tr>\n",
       "      <th>0</th>\n",
       "      <td>p080120</td>\n",
       "      <td>3406983_0002</td>\n",
       "      <td>0</td>\n",
       "      <td>1.168396</td>\n",
       "      <td>0.004582</td>\n",
       "      <td>0.964767</td>\n",
       "      <td>0.009790</td>\n",
       "      <td>2.070072</td>\n",
       "      <td>0.000166</td>\n",
       "      <td>0.172803</td>\n",
       "      <td>0.000307</td>\n",
       "      <td>0.520330</td>\n",
       "      <td>0.000906</td>\n",
       "      <td>NaN</td>\n",
       "    </tr>\n",
       "    <tr>\n",
       "      <th>1</th>\n",
       "      <td>p080120</td>\n",
       "      <td>3406983_0003</td>\n",
       "      <td>0</td>\n",
       "      <td>1.047608</td>\n",
       "      <td>0.042369</td>\n",
       "      <td>0.802464</td>\n",
       "      <td>0.049698</td>\n",
       "      <td>2.090014</td>\n",
       "      <td>0.000189</td>\n",
       "      <td>0.154892</td>\n",
       "      <td>0.000404</td>\n",
       "      <td>0.468682</td>\n",
       "      <td>0.001764</td>\n",
       "      <td>NaN</td>\n",
       "    </tr>\n",
       "    <tr>\n",
       "      <th>2</th>\n",
       "      <td>p080120</td>\n",
       "      <td>3406983_0007</td>\n",
       "      <td>0</td>\n",
       "      <td>1.135748</td>\n",
       "      <td>0.032810</td>\n",
       "      <td>0.831941</td>\n",
       "      <td>0.067280</td>\n",
       "      <td>2.085422</td>\n",
       "      <td>0.000052</td>\n",
       "      <td>0.148726</td>\n",
       "      <td>0.000284</td>\n",
       "      <td>0.431369</td>\n",
       "      <td>0.001633</td>\n",
       "      <td>NaN</td>\n",
       "    </tr>\n",
       "    <tr>\n",
       "      <th>3</th>\n",
       "      <td>p080120</td>\n",
       "      <td>3406983_0009</td>\n",
       "      <td>0</td>\n",
       "      <td>1.089244</td>\n",
       "      <td>0.049727</td>\n",
       "      <td>0.849848</td>\n",
       "      <td>0.069910</td>\n",
       "      <td>2.091715</td>\n",
       "      <td>0.000124</td>\n",
       "      <td>0.178373</td>\n",
       "      <td>0.003703</td>\n",
       "      <td>0.485346</td>\n",
       "      <td>0.006567</td>\n",
       "      <td>NaN</td>\n",
       "    </tr>\n",
       "    <tr>\n",
       "      <th>4</th>\n",
       "      <td>p080120</td>\n",
       "      <td>3406983_0011</td>\n",
       "      <td>0</td>\n",
       "      <td>0.839026</td>\n",
       "      <td>0.103725</td>\n",
       "      <td>0.625933</td>\n",
       "      <td>0.097401</td>\n",
       "      <td>2.113146</td>\n",
       "      <td>0.003489</td>\n",
       "      <td>0.166810</td>\n",
       "      <td>0.002794</td>\n",
       "      <td>0.441605</td>\n",
       "      <td>0.007855</td>\n",
       "      <td>NaN</td>\n",
       "    </tr>\n",
       "    <tr>\n",
       "      <th>...</th>\n",
       "      <td>...</td>\n",
       "      <td>...</td>\n",
       "      <td>...</td>\n",
       "      <td>...</td>\n",
       "      <td>...</td>\n",
       "      <td>...</td>\n",
       "      <td>...</td>\n",
       "      <td>...</td>\n",
       "      <td>...</td>\n",
       "      <td>...</td>\n",
       "      <td>...</td>\n",
       "      <td>...</td>\n",
       "      <td>...</td>\n",
       "      <td>...</td>\n",
       "    </tr>\n",
       "    <tr>\n",
       "      <th>15112</th>\n",
       "      <td>p093900</td>\n",
       "      <td>3830735_0011</td>\n",
       "      <td>1</td>\n",
       "      <td>0.781379</td>\n",
       "      <td>0.039406</td>\n",
       "      <td>0.604919</td>\n",
       "      <td>0.070200</td>\n",
       "      <td>2.088072</td>\n",
       "      <td>0.000423</td>\n",
       "      <td>0.212267</td>\n",
       "      <td>0.004820</td>\n",
       "      <td>0.552899</td>\n",
       "      <td>0.005583</td>\n",
       "      <td>7.0</td>\n",
       "    </tr>\n",
       "    <tr>\n",
       "      <th>15113</th>\n",
       "      <td>p093900</td>\n",
       "      <td>3830735_0013</td>\n",
       "      <td>1</td>\n",
       "      <td>0.742207</td>\n",
       "      <td>0.035708</td>\n",
       "      <td>0.617933</td>\n",
       "      <td>0.041877</td>\n",
       "      <td>2.093576</td>\n",
       "      <td>0.000966</td>\n",
       "      <td>0.185574</td>\n",
       "      <td>0.005470</td>\n",
       "      <td>0.482693</td>\n",
       "      <td>0.011504</td>\n",
       "      <td>8.0</td>\n",
       "    </tr>\n",
       "    <tr>\n",
       "      <th>15114</th>\n",
       "      <td>p093900</td>\n",
       "      <td>3830735_0019</td>\n",
       "      <td>1</td>\n",
       "      <td>0.516458</td>\n",
       "      <td>0.008824</td>\n",
       "      <td>0.305300</td>\n",
       "      <td>0.006787</td>\n",
       "      <td>2.075331</td>\n",
       "      <td>0.000292</td>\n",
       "      <td>0.250197</td>\n",
       "      <td>0.000718</td>\n",
       "      <td>0.448389</td>\n",
       "      <td>0.004131</td>\n",
       "      <td>9.0</td>\n",
       "    </tr>\n",
       "    <tr>\n",
       "      <th>15115</th>\n",
       "      <td>p094007</td>\n",
       "      <td>3433819_0001</td>\n",
       "      <td>1</td>\n",
       "      <td>1.432638</td>\n",
       "      <td>0.001476</td>\n",
       "      <td>1.410608</td>\n",
       "      <td>0.010145</td>\n",
       "      <td>2.057172</td>\n",
       "      <td>0.000205</td>\n",
       "      <td>0.253336</td>\n",
       "      <td>0.000756</td>\n",
       "      <td>0.586211</td>\n",
       "      <td>0.000665</td>\n",
       "      <td>0.0</td>\n",
       "    </tr>\n",
       "    <tr>\n",
       "      <th>15116</th>\n",
       "      <td>p094007</td>\n",
       "      <td>3433819_0002</td>\n",
       "      <td>1</td>\n",
       "      <td>1.424298</td>\n",
       "      <td>0.004650</td>\n",
       "      <td>1.389438</td>\n",
       "      <td>0.018489</td>\n",
       "      <td>2.059988</td>\n",
       "      <td>0.000144</td>\n",
       "      <td>0.302056</td>\n",
       "      <td>0.001985</td>\n",
       "      <td>0.621348</td>\n",
       "      <td>0.001887</td>\n",
       "      <td>1.0</td>\n",
       "    </tr>\n",
       "  </tbody>\n",
       "</table>\n",
       "<p>15117 rows × 14 columns</p>\n",
       "</div>"
      ],
      "text/plain": [
       "          case        record  cond      ae_m      ae_v      se_m      se_v  \\\n",
       "0      p080120  3406983_0002     0  1.168396  0.004582  0.964767  0.009790   \n",
       "1      p080120  3406983_0003     0  1.047608  0.042369  0.802464  0.049698   \n",
       "2      p080120  3406983_0007     0  1.135748  0.032810  0.831941  0.067280   \n",
       "3      p080120  3406983_0009     0  1.089244  0.049727  0.849848  0.069910   \n",
       "4      p080120  3406983_0011     0  0.839026  0.103725  0.625933  0.097401   \n",
       "...        ...           ...   ...       ...       ...       ...       ...   \n",
       "15112  p093900  3830735_0011     1  0.781379  0.039406  0.604919  0.070200   \n",
       "15113  p093900  3830735_0013     1  0.742207  0.035708  0.617933  0.041877   \n",
       "15114  p093900  3830735_0019     1  0.516458  0.008824  0.305300  0.006787   \n",
       "15115  p094007  3433819_0001     1  1.432638  0.001476  1.410608  0.010145   \n",
       "15116  p094007  3433819_0002     1  1.424298  0.004650  1.389438  0.018489   \n",
       "\n",
       "          hfd_m     hfd_v     dfa_m     dfa_v     psd_m     psd_v  Unnamed: 0  \n",
       "0      2.070072  0.000166  0.172803  0.000307  0.520330  0.000906         NaN  \n",
       "1      2.090014  0.000189  0.154892  0.000404  0.468682  0.001764         NaN  \n",
       "2      2.085422  0.000052  0.148726  0.000284  0.431369  0.001633         NaN  \n",
       "3      2.091715  0.000124  0.178373  0.003703  0.485346  0.006567         NaN  \n",
       "4      2.113146  0.003489  0.166810  0.002794  0.441605  0.007855         NaN  \n",
       "...         ...       ...       ...       ...       ...       ...         ...  \n",
       "15112  2.088072  0.000423  0.212267  0.004820  0.552899  0.005583         7.0  \n",
       "15113  2.093576  0.000966  0.185574  0.005470  0.482693  0.011504         8.0  \n",
       "15114  2.075331  0.000292  0.250197  0.000718  0.448389  0.004131         9.0  \n",
       "15115  2.057172  0.000205  0.253336  0.000756  0.586211  0.000665         0.0  \n",
       "15116  2.059988  0.000144  0.302056  0.001985  0.621348  0.001887         1.0  \n",
       "\n",
       "[15117 rows x 14 columns]"
      ]
     },
     "execution_count": 3,
     "metadata": {},
     "output_type": "execute_result"
    }
   ],
   "source": [
    "data=pd.read_csv(\"complete_data.csv\")\n",
    "data\n",
    "# 0 - Fibrilacion Atrial\n",
    "# 1 - Congestión cardíaca\n",
    "# 2 - Infarto al miocardio"
   ]
  },
  {
   "cell_type": "markdown",
   "metadata": {},
   "source": [
    "<h2>Extract Non linear analysis<h2>"
   ]
  },
  {
   "cell_type": "code",
   "execution_count": 351,
   "metadata": {},
   "outputs": [
    {
     "data": {
      "text/html": [
       "<div>\n",
       "<style scoped>\n",
       "    .dataframe tbody tr th:only-of-type {\n",
       "        vertical-align: middle;\n",
       "    }\n",
       "\n",
       "    .dataframe tbody tr th {\n",
       "        vertical-align: top;\n",
       "    }\n",
       "\n",
       "    .dataframe thead th {\n",
       "        text-align: right;\n",
       "    }\n",
       "</style>\n",
       "<table border=\"1\" class=\"dataframe\">\n",
       "  <thead>\n",
       "    <tr style=\"text-align: right;\">\n",
       "      <th></th>\n",
       "      <th>cond</th>\n",
       "      <th>ae_m</th>\n",
       "      <th>ae_v</th>\n",
       "      <th>se_m</th>\n",
       "      <th>se_v</th>\n",
       "      <th>hfd_m</th>\n",
       "      <th>hfd_v</th>\n",
       "      <th>dfa_m</th>\n",
       "      <th>dfa_v</th>\n",
       "      <th>psd_m</th>\n",
       "      <th>psd_v</th>\n",
       "    </tr>\n",
       "  </thead>\n",
       "  <tbody>\n",
       "    <tr>\n",
       "      <th>0</th>\n",
       "      <td>0</td>\n",
       "      <td>1.168396</td>\n",
       "      <td>0.004582</td>\n",
       "      <td>0.964767</td>\n",
       "      <td>0.009790</td>\n",
       "      <td>2.070072</td>\n",
       "      <td>0.000166</td>\n",
       "      <td>0.172803</td>\n",
       "      <td>0.000307</td>\n",
       "      <td>0.520330</td>\n",
       "      <td>0.000906</td>\n",
       "    </tr>\n",
       "    <tr>\n",
       "      <th>1</th>\n",
       "      <td>0</td>\n",
       "      <td>1.047608</td>\n",
       "      <td>0.042369</td>\n",
       "      <td>0.802464</td>\n",
       "      <td>0.049698</td>\n",
       "      <td>2.090014</td>\n",
       "      <td>0.000189</td>\n",
       "      <td>0.154892</td>\n",
       "      <td>0.000404</td>\n",
       "      <td>0.468682</td>\n",
       "      <td>0.001764</td>\n",
       "    </tr>\n",
       "    <tr>\n",
       "      <th>2</th>\n",
       "      <td>0</td>\n",
       "      <td>1.135748</td>\n",
       "      <td>0.032810</td>\n",
       "      <td>0.831941</td>\n",
       "      <td>0.067280</td>\n",
       "      <td>2.085422</td>\n",
       "      <td>0.000052</td>\n",
       "      <td>0.148726</td>\n",
       "      <td>0.000284</td>\n",
       "      <td>0.431369</td>\n",
       "      <td>0.001633</td>\n",
       "    </tr>\n",
       "    <tr>\n",
       "      <th>3</th>\n",
       "      <td>0</td>\n",
       "      <td>1.089244</td>\n",
       "      <td>0.049727</td>\n",
       "      <td>0.849848</td>\n",
       "      <td>0.069910</td>\n",
       "      <td>2.091715</td>\n",
       "      <td>0.000124</td>\n",
       "      <td>0.178373</td>\n",
       "      <td>0.003703</td>\n",
       "      <td>0.485346</td>\n",
       "      <td>0.006567</td>\n",
       "    </tr>\n",
       "    <tr>\n",
       "      <th>4</th>\n",
       "      <td>0</td>\n",
       "      <td>0.839026</td>\n",
       "      <td>0.103725</td>\n",
       "      <td>0.625933</td>\n",
       "      <td>0.097401</td>\n",
       "      <td>2.113146</td>\n",
       "      <td>0.003489</td>\n",
       "      <td>0.166810</td>\n",
       "      <td>0.002794</td>\n",
       "      <td>0.441605</td>\n",
       "      <td>0.007855</td>\n",
       "    </tr>\n",
       "    <tr>\n",
       "      <th>...</th>\n",
       "      <td>...</td>\n",
       "      <td>...</td>\n",
       "      <td>...</td>\n",
       "      <td>...</td>\n",
       "      <td>...</td>\n",
       "      <td>...</td>\n",
       "      <td>...</td>\n",
       "      <td>...</td>\n",
       "      <td>...</td>\n",
       "      <td>...</td>\n",
       "      <td>...</td>\n",
       "    </tr>\n",
       "    <tr>\n",
       "      <th>13614</th>\n",
       "      <td>1</td>\n",
       "      <td>0.915903</td>\n",
       "      <td>0.020921</td>\n",
       "      <td>0.668000</td>\n",
       "      <td>0.016898</td>\n",
       "      <td>2.085416</td>\n",
       "      <td>0.000102</td>\n",
       "      <td>0.247309</td>\n",
       "      <td>0.002611</td>\n",
       "      <td>0.609834</td>\n",
       "      <td>0.000510</td>\n",
       "    </tr>\n",
       "    <tr>\n",
       "      <th>13615</th>\n",
       "      <td>1</td>\n",
       "      <td>0.961124</td>\n",
       "      <td>0.027265</td>\n",
       "      <td>0.737809</td>\n",
       "      <td>0.034508</td>\n",
       "      <td>2.076590</td>\n",
       "      <td>0.000122</td>\n",
       "      <td>0.241224</td>\n",
       "      <td>0.002111</td>\n",
       "      <td>0.604419</td>\n",
       "      <td>0.001037</td>\n",
       "    </tr>\n",
       "    <tr>\n",
       "      <th>13616</th>\n",
       "      <td>1</td>\n",
       "      <td>1.028513</td>\n",
       "      <td>0.013908</td>\n",
       "      <td>0.795484</td>\n",
       "      <td>0.020737</td>\n",
       "      <td>2.076425</td>\n",
       "      <td>0.000070</td>\n",
       "      <td>0.219565</td>\n",
       "      <td>0.000813</td>\n",
       "      <td>0.586943</td>\n",
       "      <td>0.000576</td>\n",
       "    </tr>\n",
       "    <tr>\n",
       "      <th>13617</th>\n",
       "      <td>1</td>\n",
       "      <td>1.119410</td>\n",
       "      <td>0.022302</td>\n",
       "      <td>0.951327</td>\n",
       "      <td>0.034992</td>\n",
       "      <td>2.074262</td>\n",
       "      <td>0.000064</td>\n",
       "      <td>0.234444</td>\n",
       "      <td>0.003980</td>\n",
       "      <td>0.595714</td>\n",
       "      <td>0.002652</td>\n",
       "    </tr>\n",
       "    <tr>\n",
       "      <th>13618</th>\n",
       "      <td>1</td>\n",
       "      <td>0.996047</td>\n",
       "      <td>0.037387</td>\n",
       "      <td>0.777091</td>\n",
       "      <td>0.038516</td>\n",
       "      <td>2.082666</td>\n",
       "      <td>0.000184</td>\n",
       "      <td>0.228997</td>\n",
       "      <td>0.003225</td>\n",
       "      <td>0.593321</td>\n",
       "      <td>0.001914</td>\n",
       "    </tr>\n",
       "  </tbody>\n",
       "</table>\n",
       "<p>13619 rows × 11 columns</p>\n",
       "</div>"
      ],
      "text/plain": [
       "       cond      ae_m      ae_v      se_m      se_v     hfd_m     hfd_v  \\\n",
       "0         0  1.168396  0.004582  0.964767  0.009790  2.070072  0.000166   \n",
       "1         0  1.047608  0.042369  0.802464  0.049698  2.090014  0.000189   \n",
       "2         0  1.135748  0.032810  0.831941  0.067280  2.085422  0.000052   \n",
       "3         0  1.089244  0.049727  0.849848  0.069910  2.091715  0.000124   \n",
       "4         0  0.839026  0.103725  0.625933  0.097401  2.113146  0.003489   \n",
       "...     ...       ...       ...       ...       ...       ...       ...   \n",
       "13614     1  0.915903  0.020921  0.668000  0.016898  2.085416  0.000102   \n",
       "13615     1  0.961124  0.027265  0.737809  0.034508  2.076590  0.000122   \n",
       "13616     1  1.028513  0.013908  0.795484  0.020737  2.076425  0.000070   \n",
       "13617     1  1.119410  0.022302  0.951327  0.034992  2.074262  0.000064   \n",
       "13618     1  0.996047  0.037387  0.777091  0.038516  2.082666  0.000184   \n",
       "\n",
       "          dfa_m     dfa_v     psd_m     psd_v  \n",
       "0      0.172803  0.000307  0.520330  0.000906  \n",
       "1      0.154892  0.000404  0.468682  0.001764  \n",
       "2      0.148726  0.000284  0.431369  0.001633  \n",
       "3      0.178373  0.003703  0.485346  0.006567  \n",
       "4      0.166810  0.002794  0.441605  0.007855  \n",
       "...         ...       ...       ...       ...  \n",
       "13614  0.247309  0.002611  0.609834  0.000510  \n",
       "13615  0.241224  0.002111  0.604419  0.001037  \n",
       "13616  0.219565  0.000813  0.586943  0.000576  \n",
       "13617  0.234444  0.003980  0.595714  0.002652  \n",
       "13618  0.228997  0.003225  0.593321  0.001914  \n",
       "\n",
       "[13619 rows x 11 columns]"
      ]
     },
     "execution_count": 351,
     "metadata": {},
     "output_type": "execute_result"
    }
   ],
   "source": [
    "pathology = data[[\"cond\",\"ae_m\",\"ae_v\",\"se_m\",\"se_v\",\"hfd_m\",\"hfd_v\",\"dfa_m\",\"dfa_v\",\"psd_m\",\"psd_v\"]]\n",
    "pathology[0:13619]"
   ]
  },
  {
   "cell_type": "markdown",
   "metadata": {},
   "source": [
    "<h2>Define train set and targets<h2>"
   ]
  },
  {
   "cell_type": "code",
   "execution_count": 429,
   "metadata": {},
   "outputs": [
    {
     "data": {
      "text/html": [
       "<div>\n",
       "<style scoped>\n",
       "    .dataframe tbody tr th:only-of-type {\n",
       "        vertical-align: middle;\n",
       "    }\n",
       "\n",
       "    .dataframe tbody tr th {\n",
       "        vertical-align: top;\n",
       "    }\n",
       "\n",
       "    .dataframe thead th {\n",
       "        text-align: right;\n",
       "    }\n",
       "</style>\n",
       "<table border=\"1\" class=\"dataframe\">\n",
       "  <thead>\n",
       "    <tr style=\"text-align: right;\">\n",
       "      <th></th>\n",
       "      <th>ae_m</th>\n",
       "      <th>ae_v</th>\n",
       "      <th>se_m</th>\n",
       "      <th>se_v</th>\n",
       "      <th>hfd_m</th>\n",
       "      <th>hfd_v</th>\n",
       "      <th>dfa_m</th>\n",
       "      <th>dfa_v</th>\n",
       "      <th>psd_m</th>\n",
       "      <th>psd_v</th>\n",
       "    </tr>\n",
       "  </thead>\n",
       "  <tbody>\n",
       "    <tr>\n",
       "      <th>0</th>\n",
       "      <td>1.168396</td>\n",
       "      <td>0.004582</td>\n",
       "      <td>0.964767</td>\n",
       "      <td>0.009790</td>\n",
       "      <td>2.070072</td>\n",
       "      <td>0.000166</td>\n",
       "      <td>0.172803</td>\n",
       "      <td>0.000307</td>\n",
       "      <td>0.520330</td>\n",
       "      <td>0.000906</td>\n",
       "    </tr>\n",
       "    <tr>\n",
       "      <th>1</th>\n",
       "      <td>1.047608</td>\n",
       "      <td>0.042369</td>\n",
       "      <td>0.802464</td>\n",
       "      <td>0.049698</td>\n",
       "      <td>2.090014</td>\n",
       "      <td>0.000189</td>\n",
       "      <td>0.154892</td>\n",
       "      <td>0.000404</td>\n",
       "      <td>0.468682</td>\n",
       "      <td>0.001764</td>\n",
       "    </tr>\n",
       "    <tr>\n",
       "      <th>2</th>\n",
       "      <td>1.135748</td>\n",
       "      <td>0.032810</td>\n",
       "      <td>0.831941</td>\n",
       "      <td>0.067280</td>\n",
       "      <td>2.085422</td>\n",
       "      <td>0.000052</td>\n",
       "      <td>0.148726</td>\n",
       "      <td>0.000284</td>\n",
       "      <td>0.431369</td>\n",
       "      <td>0.001633</td>\n",
       "    </tr>\n",
       "    <tr>\n",
       "      <th>3</th>\n",
       "      <td>1.089244</td>\n",
       "      <td>0.049727</td>\n",
       "      <td>0.849848</td>\n",
       "      <td>0.069910</td>\n",
       "      <td>2.091715</td>\n",
       "      <td>0.000124</td>\n",
       "      <td>0.178373</td>\n",
       "      <td>0.003703</td>\n",
       "      <td>0.485346</td>\n",
       "      <td>0.006567</td>\n",
       "    </tr>\n",
       "    <tr>\n",
       "      <th>4</th>\n",
       "      <td>0.839026</td>\n",
       "      <td>0.103725</td>\n",
       "      <td>0.625933</td>\n",
       "      <td>0.097401</td>\n",
       "      <td>2.113146</td>\n",
       "      <td>0.003489</td>\n",
       "      <td>0.166810</td>\n",
       "      <td>0.002794</td>\n",
       "      <td>0.441605</td>\n",
       "      <td>0.007855</td>\n",
       "    </tr>\n",
       "    <tr>\n",
       "      <th>...</th>\n",
       "      <td>...</td>\n",
       "      <td>...</td>\n",
       "      <td>...</td>\n",
       "      <td>...</td>\n",
       "      <td>...</td>\n",
       "      <td>...</td>\n",
       "      <td>...</td>\n",
       "      <td>...</td>\n",
       "      <td>...</td>\n",
       "      <td>...</td>\n",
       "    </tr>\n",
       "    <tr>\n",
       "      <th>15112</th>\n",
       "      <td>0.419859</td>\n",
       "      <td>0.011154</td>\n",
       "      <td>0.300128</td>\n",
       "      <td>0.013148</td>\n",
       "      <td>2.126929</td>\n",
       "      <td>0.001293</td>\n",
       "      <td>0.173775</td>\n",
       "      <td>0.009783</td>\n",
       "      <td>0.349523</td>\n",
       "      <td>0.012590</td>\n",
       "    </tr>\n",
       "    <tr>\n",
       "      <th>15113</th>\n",
       "      <td>0.245454</td>\n",
       "      <td>0.006962</td>\n",
       "      <td>0.115138</td>\n",
       "      <td>0.001728</td>\n",
       "      <td>2.113415</td>\n",
       "      <td>0.002093</td>\n",
       "      <td>0.113914</td>\n",
       "      <td>0.005880</td>\n",
       "      <td>0.262313</td>\n",
       "      <td>0.008459</td>\n",
       "    </tr>\n",
       "    <tr>\n",
       "      <th>15114</th>\n",
       "      <td>1.405579</td>\n",
       "      <td>0.002696</td>\n",
       "      <td>1.373599</td>\n",
       "      <td>0.009849</td>\n",
       "      <td>2.077307</td>\n",
       "      <td>0.000036</td>\n",
       "      <td>0.291876</td>\n",
       "      <td>0.000557</td>\n",
       "      <td>0.573274</td>\n",
       "      <td>0.000320</td>\n",
       "    </tr>\n",
       "    <tr>\n",
       "      <th>15115</th>\n",
       "      <td>0.199680</td>\n",
       "      <td>0.029282</td>\n",
       "      <td>0.139802</td>\n",
       "      <td>0.025585</td>\n",
       "      <td>2.390605</td>\n",
       "      <td>0.050698</td>\n",
       "      <td>0.053848</td>\n",
       "      <td>0.006279</td>\n",
       "      <td>0.164920</td>\n",
       "      <td>0.022955</td>\n",
       "    </tr>\n",
       "    <tr>\n",
       "      <th>15116</th>\n",
       "      <td>0.418296</td>\n",
       "      <td>0.047980</td>\n",
       "      <td>0.340367</td>\n",
       "      <td>0.047220</td>\n",
       "      <td>2.143152</td>\n",
       "      <td>0.015905</td>\n",
       "      <td>0.239947</td>\n",
       "      <td>0.017217</td>\n",
       "      <td>0.539262</td>\n",
       "      <td>0.026497</td>\n",
       "    </tr>\n",
       "  </tbody>\n",
       "</table>\n",
       "<p>15117 rows × 10 columns</p>\n",
       "</div>"
      ],
      "text/plain": [
       "           ae_m      ae_v      se_m      se_v     hfd_m     hfd_v     dfa_m  \\\n",
       "0      1.168396  0.004582  0.964767  0.009790  2.070072  0.000166  0.172803   \n",
       "1      1.047608  0.042369  0.802464  0.049698  2.090014  0.000189  0.154892   \n",
       "2      1.135748  0.032810  0.831941  0.067280  2.085422  0.000052  0.148726   \n",
       "3      1.089244  0.049727  0.849848  0.069910  2.091715  0.000124  0.178373   \n",
       "4      0.839026  0.103725  0.625933  0.097401  2.113146  0.003489  0.166810   \n",
       "...         ...       ...       ...       ...       ...       ...       ...   \n",
       "15112  0.419859  0.011154  0.300128  0.013148  2.126929  0.001293  0.173775   \n",
       "15113  0.245454  0.006962  0.115138  0.001728  2.113415  0.002093  0.113914   \n",
       "15114  1.405579  0.002696  1.373599  0.009849  2.077307  0.000036  0.291876   \n",
       "15115  0.199680  0.029282  0.139802  0.025585  2.390605  0.050698  0.053848   \n",
       "15116  0.418296  0.047980  0.340367  0.047220  2.143152  0.015905  0.239947   \n",
       "\n",
       "          dfa_v     psd_m     psd_v  \n",
       "0      0.000307  0.520330  0.000906  \n",
       "1      0.000404  0.468682  0.001764  \n",
       "2      0.000284  0.431369  0.001633  \n",
       "3      0.003703  0.485346  0.006567  \n",
       "4      0.002794  0.441605  0.007855  \n",
       "...         ...       ...       ...  \n",
       "15112  0.009783  0.349523  0.012590  \n",
       "15113  0.005880  0.262313  0.008459  \n",
       "15114  0.000557  0.573274  0.000320  \n",
       "15115  0.006279  0.164920  0.022955  \n",
       "15116  0.017217  0.539262  0.026497  \n",
       "\n",
       "[15117 rows x 10 columns]"
      ]
     },
     "execution_count": 429,
     "metadata": {},
     "output_type": "execute_result"
    }
   ],
   "source": [
    "a_f=pathology[pathology[\"cond\"] ==0]\n",
    "c_c=pathology[pathology[\"cond\"] ==1]\n",
    "m_i=pathology[pathology[\"cond\"] ==2]\n",
    "\n",
    "atrial_f=a_f[[\"ae_m\",\"ae_v\",\"se_m\",\"se_v\",\"hfd_m\",\"hfd_v\",\"dfa_m\",\"dfa_v\",\"psd_m\",\"psd_v\"]]\n",
    "congestive_h=c_c[[\"ae_m\",\"ae_v\",\"se_m\",\"se_v\",\"hfd_m\",\"hfd_v\",\"dfa_m\",\"dfa_v\",\"psd_m\",\"psd_v\"]]\n",
    "myocardial_i=m_i[[\"ae_m\",\"ae_v\",\"se_m\",\"se_v\",\"hfd_m\",\"hfd_v\",\"dfa_m\",\"dfa_v\",\"psd_m\",\"psd_v\"]]\n",
    "\n",
    "targets=a_f['cond'].tolist()+c_c['cond'].tolist()+m_i['cond'].tolist()\n",
    "X=pd.concat([atrial_f,congestive_h,myocardial_i],ignore_index=True)\n",
    "X"
   ]
  },
  {
   "cell_type": "markdown",
   "metadata": {},
   "source": [
    "<h2>Histograms<h2>"
   ]
  },
  {
   "cell_type": "code",
   "execution_count": 79,
   "metadata": {},
   "outputs": [
    {
     "data": {
      "text/plain": [
       "<matplotlib.legend.Legend at 0x21fe85bfe20>"
      ]
     },
     "execution_count": 79,
     "metadata": {},
     "output_type": "execute_result"
    },
    {
     "data": {
      "image/png": "[encoded data removed]",
      "text/plain": [
       "<Figure size 432x288 with 1 Axes>"
      ]
     },
     "metadata": {
      "needs_background": "light"
     },
     "output_type": "display_data"
    }
   ],
   "source": [
    "se_af=a_f[\"se_m\"]\n",
    "se_cc=c_c[\"se_m\"]\n",
    "se_mi=m_i[\"se_m\"]\n",
    "\n",
    "\n",
    "sn.distplot(a=se_af,bins=200,color='#FF8427',kde=False,label=\"Atrial Fibrillation\")\n",
    "sn.distplot(a=se_cc,bins=200,color='#04A777',kde=False,label=\"Congestive heart f\")\n",
    "sn.distplot(a=se_mi,bins=200,color='#083D77',kde=False,label=\"Myocardial infarction\")\n",
    "\n",
    "plt.title(\"Sample entrophy (mean)\")\n",
    "plt.legend()\n"
   ]
  },
  {
   "cell_type": "code",
   "execution_count": 94,
   "metadata": {},
   "outputs": [
    {
     "data": {
      "text/plain": [
       "(0.0, 0.4)"
      ]
     },
     "execution_count": 94,
     "metadata": {},
     "output_type": "execute_result"
    },
    {
     "data": {
      "image/png": "[encoded data removed]",
      "text/plain": [
       "<Figure size 432x288 with 1 Axes>"
      ]
     },
     "metadata": {
      "needs_background": "light"
     },
     "output_type": "display_data"
    }
   ],
   "source": [
    "sev_af=a_f[\"se_v\"]\n",
    "sev_cc=c_c[\"se_v\"]\n",
    "sev_mi=m_i[\"se_v\"]\n",
    "\n",
    "\n",
    "sn.distplot(a=sev_af,bins=200,color='#FF8427',kde=False,label=\"Atrial Fibrillation\")\n",
    "sn.distplot(a=sev_cc,bins=200,color='#04A777',kde=False,label=\"Congestive heart f\")\n",
    "sn.distplot(a=sev_mi,bins=200,color='#083D77',kde=False,label=\"Myocardial infarction\")\n",
    "\n",
    "plt.title(\"Sample entrophy (variance)\")\n",
    "plt.legend()\n",
    "plt.xlim(0, 0.4)"
   ]
  },
  {
   "cell_type": "code",
   "execution_count": 74,
   "metadata": {},
   "outputs": [
    {
     "data": {
      "text/plain": [
       "<matplotlib.legend.Legend at 0x21fe53b8070>"
      ]
     },
     "execution_count": 74,
     "metadata": {},
     "output_type": "execute_result"
    },
    {
     "data": {
      "image/png": "[encoded data removed]",
      "text/plain": [
       "<Figure size 432x288 with 1 Axes>"
      ]
     },
     "metadata": {
      "needs_background": "light"
     },
     "output_type": "display_data"
    }
   ],
   "source": [
    "aem_af=a_f[\"ae_m\"]\n",
    "aem_cc=c_c[\"ae_m\"]\n",
    "aem_mi=m_i[\"ae_m\"]\n",
    "\n",
    "#myColors = ['#083D77','#f4633a','#ffd757']\n",
    "\n",
    "sn.distplot(a=aem_af,bins=200,color='#FF8427',kde=False,label=\"Atrial Fibrillation\")\n",
    "sn.distplot(a=aem_cc,bins=200,color='#04A777',kde=False,label=\"Congestive heart f\")\n",
    "sn.distplot(a=aem_mi,bins=200,color='#083D77',kde=False,label=\"Myocardial infarction\")\n",
    "\n",
    "plt.title(\"Approximate entrophy (mean)\")\n",
    "plt.legend()\n"
   ]
  },
  {
   "cell_type": "code",
   "execution_count": 93,
   "metadata": {},
   "outputs": [
    {
     "data": {
      "text/plain": [
       "(0.0, 0.2)"
      ]
     },
     "execution_count": 93,
     "metadata": {},
     "output_type": "execute_result"
    },
    {
     "data": {
      "image/png": "[encoded data removed]",
      "text/plain": [
       "<Figure size 432x288 with 1 Axes>"
      ]
     },
     "metadata": {
      "needs_background": "light"
     },
     "output_type": "display_data"
    }
   ],
   "source": [
    "aev_af=a_f[\"ae_v\"]\n",
    "aev_cc=c_c[\"ae_v\"]\n",
    "aev_mi=m_i[\"ae_v\"]\n",
    "\n",
    "#myColors = ['#083D77','#f4633a','#ffd757']\n",
    "\n",
    "sn.distplot(a=aev_af,bins=200,color='#FF8427',kde=False,label=\"Atrial Fibrillation\")\n",
    "sn.distplot(a=aev_cc,bins=200,color='#04A777',kde=False,label=\"Congestive heart f\")\n",
    "sn.distplot(a=aev_mi,bins=200,color='#083D77',kde=False,label=\"Myocardial infarction\")\n",
    "\n",
    "plt.title(\"Approximate entrophy (variance)\")\n",
    "plt.legend()\n",
    "plt.xlim(0, 0.2)"
   ]
  },
  {
   "cell_type": "code",
   "execution_count": 85,
   "metadata": {},
   "outputs": [
    {
     "data": {
      "text/plain": [
       "<matplotlib.legend.Legend at 0x21febc10460>"
      ]
     },
     "execution_count": 85,
     "metadata": {},
     "output_type": "execute_result"
    },
    {
     "data": {
      "image/png": "[encoded data removed]",
      "text/plain": [
       "<Figure size 432x288 with 1 Axes>"
      ]
     },
     "metadata": {
      "needs_background": "light"
     },
     "output_type": "display_data"
    }
   ],
   "source": [
    "hfd_af=a_f[\"hfd_m\"]\n",
    "hfd_cc=c_c[\"hfd_m\"]\n",
    "hfd_mi=m_i[\"hfd_m\"]\n",
    "\n",
    "\n",
    "sn.distplot(a=hfd_af,bins=200,color='#FF8427',kde=False,label=\"Atrial Fibrillation\")\n",
    "sn.distplot(a=hfd_cc,bins=200,color='#04A777',kde=False,label=\"Congestive heart f\")\n",
    "sn.distplot(a=hfd_mi,bins=200,color='#083D77',kde=False,label=\"Myocardial infarction\")\n",
    "\n",
    "plt.title(\"Higuchi (mean)\")\n",
    "plt.legend()"
   ]
  },
  {
   "cell_type": "code",
   "execution_count": 95,
   "metadata": {},
   "outputs": [
    {
     "data": {
      "text/plain": [
       "(0.0, 0.015)"
      ]
     },
     "execution_count": 95,
     "metadata": {},
     "output_type": "execute_result"
    },
    {
     "data": {
      "image/png": "[encoded data removed]",
      "text/plain": [
       "<Figure size 432x288 with 1 Axes>"
      ]
     },
     "metadata": {
      "needs_background": "light"
     },
     "output_type": "display_data"
    }
   ],
   "source": [
    "hfdv_af=a_f[\"hfd_v\"]\n",
    "hfdv_cc=c_c[\"hfd_v\"]\n",
    "hfdv_mi=m_i[\"hfd_v\"]\n",
    "\n",
    "\n",
    "sn.distplot(a=hfdv_af,bins=200,color='#FF8427',kde=False,label=\"Atrial Fibrillation\")\n",
    "sn.distplot(a=hfdv_cc,bins=200,color='#04A777',kde=False,label=\"Congestive heart f\")\n",
    "sn.distplot(a=hfdv_mi,bins=200,color='#083D77',kde=False,label=\"Myocardial infarction\")\n",
    "\n",
    "plt.title(\"Higuchi (variance)\")\n",
    "plt.legend()\n",
    "plt.xlim(0, 0.015)"
   ]
  },
  {
   "cell_type": "code",
   "execution_count": 84,
   "metadata": {},
   "outputs": [
    {
     "data": {
      "text/plain": [
       "<matplotlib.legend.Legend at 0x21feb5682b0>"
      ]
     },
     "execution_count": 84,
     "metadata": {},
     "output_type": "execute_result"
    },
    {
     "data": {
      "image/png": "[encoded data removed]",
      "text/plain": [
       "<Figure size 432x288 with 1 Axes>"
      ]
     },
     "metadata": {
      "needs_background": "light"
     },
     "output_type": "display_data"
    }
   ],
   "source": [
    "dfa_af=a_f[\"dfa_m\"]\n",
    "dfa_cc=c_c[\"dfa_m\"]\n",
    "dfa_mi=m_i[\"dfa_m\"]\n",
    "\n",
    "\n",
    "sn.distplot(a=dfa_af,bins=200,color='#FF8427',kde=False,label=\"Atrial Fibrillation\")\n",
    "sn.distplot(a=dfa_cc,bins=200,color='#04A777',kde=False,label=\"Congestive heart f\")\n",
    "sn.distplot(a=dfa_mi,bins=200,color='#083D77',kde=False,label=\"Myocardial infarction\")\n",
    "\n",
    "plt.title(\"DFA (mean)\")\n",
    "plt.legend()"
   ]
  },
  {
   "cell_type": "code",
   "execution_count": 96,
   "metadata": {},
   "outputs": [
    {
     "data": {
      "text/plain": [
       "(0.0, 0.04)"
      ]
     },
     "execution_count": 96,
     "metadata": {},
     "output_type": "execute_result"
    },
    {
     "data": {
      "image/png": "[encoded data removed]",
      "text/plain": [
       "<Figure size 432x288 with 1 Axes>"
      ]
     },
     "metadata": {
      "needs_background": "light"
     },
     "output_type": "display_data"
    }
   ],
   "source": [
    "dfav_af=a_f[\"dfa_v\"]\n",
    "dfav_cc=c_c[\"dfa_v\"]\n",
    "dfav_mi=m_i[\"dfa_v\"]\n",
    "\n",
    "\n",
    "sn.distplot(a=dfav_af,bins=200,color='#FF8427',kde=False,label=\"Atrial Fibrillation\")\n",
    "sn.distplot(a=dfav_cc,bins=200,color='#04A777',kde=False,label=\"Congestive heart f\")\n",
    "sn.distplot(a=dfav_mi,bins=200,color='#083D77',kde=False,label=\"Myocardial infarction\")\n",
    "\n",
    "plt.title(\"DFA (variance)\")\n",
    "plt.legend()\n",
    "plt.xlim(0, 0.04)"
   ]
  },
  {
   "cell_type": "code",
   "execution_count": 87,
   "metadata": {},
   "outputs": [
    {
     "data": {
      "text/plain": [
       "<matplotlib.legend.Legend at 0x21fed28b550>"
      ]
     },
     "execution_count": 87,
     "metadata": {},
     "output_type": "execute_result"
    },
    {
     "data": {
      "image/png": "[encoded data removed]",
      "text/plain": [
       "<Figure size 432x288 with 1 Axes>"
      ]
     },
     "metadata": {
      "needs_background": "light"
     },
     "output_type": "display_data"
    }
   ],
   "source": [
    "psd_af=a_f[\"psd_m\"]\n",
    "psd_cc=c_c[\"psd_m\"]\n",
    "psd_mi=m_i[\"psd_m\"]\n",
    "\n",
    "\n",
    "sn.distplot(a=psd_af,bins=200,color='#FF8427',kde=False,label=\"Atrial Fibrillation\")\n",
    "sn.distplot(a=psd_cc,bins=200,color='#04A777',kde=False,label=\"Congestive heart f\")\n",
    "sn.distplot(a=psd_mi,bins=200,color='#083D77',kde=False,label=\"Myocardial infarction\")\n",
    "\n",
    "plt.title(\"PSD (mean) \")\n",
    "plt.legend()"
   ]
  },
  {
   "cell_type": "code",
   "execution_count": 90,
   "metadata": {},
   "outputs": [
    {
     "data": {
      "text/plain": [
       "(0.0, 0.2)"
      ]
     },
     "execution_count": 90,
     "metadata": {},
     "output_type": "execute_result"
    },
    {
     "data": {
      "image/png": "[encoded data removed]",
      "text/plain": [
       "<Figure size 432x288 with 1 Axes>"
      ]
     },
     "metadata": {
      "needs_background": "light"
     },
     "output_type": "display_data"
    }
   ],
   "source": [
    "psdv_af=a_f[\"psd_v\"]\n",
    "psdv_cc=c_c[\"psd_v\"]\n",
    "psdv_mi=m_i[\"psd_v\"]\n",
    "\n",
    "\n",
    "sn.distplot(a=psdv_af,bins=200,color='#FF8427',kde=False,label=\"Atrial Fibrillation\")\n",
    "sn.distplot(a=psdv_cc,bins=200,color='#04A777',kde=False,label=\"Congestive heart f\")\n",
    "sn.distplot(a=psdv_mi,bins=200,color='#083D77',kde=False,label=\"Myocardial infarction\")\n",
    "\n",
    "plt.title(\"PSD (variance)\")\n",
    "plt.legend()\n",
    "plt.xlim(0, 0.2)"
   ]
  },
  {
   "cell_type": "markdown",
   "metadata": {},
   "source": [
    "<h2>Scatter plots<h2>"
   ]
  },
  {
   "cell_type": "code",
   "execution_count": 446,
   "metadata": {},
   "outputs": [
    {
     "data": {
      "text/plain": [
       "<matplotlib.legend.Legend at 0x21f84b33ca0>"
      ]
     },
     "execution_count": 446,
     "metadata": {},
     "output_type": "execute_result"
    },
    {
     "data": {
      "image/png": "[encoded data removed]",
      "text/plain": [
       "<Figure size 432x288 with 1 Axes>"
      ]
     },
     "metadata": {
      "needs_background": "light"
     },
     "output_type": "display_data"
    }
   ],
   "source": [
    "a=plt.scatter(atrial_f[\"psd_m\"],atrial_f[\"psd_v\"],color='red')\n",
    "b=plt.scatter(congestive_h[\"psd_m\"],congestive_h[\"psd_v\"],color='blue')\n",
    "c=plt.scatter(myocardial_i[\"psd_m\"],myocardial_i[\"psd_v\"],color='green')\n",
    "\n",
    "plt.title(\"PSD\")\n",
    "plt.axis\n",
    "plt.legend((a,b,c),(\"AF\",\"CHF\",\"MI\"))"
   ]
  },
  {
   "cell_type": "code",
   "execution_count": 447,
   "metadata": {},
   "outputs": [
    {
     "data": {
      "text/plain": [
       "<matplotlib.legend.Legend at 0x21f84b685b0>"
      ]
     },
     "execution_count": 447,
     "metadata": {},
     "output_type": "execute_result"
    },
    {
     "data": {
      "image/png": "[encoded data removed]",
      "text/plain": [
       "<Figure size 432x288 with 1 Axes>"
      ]
     },
     "metadata": {
      "needs_background": "light"
     },
     "output_type": "display_data"
    }
   ],
   "source": [
    "a=plt.scatter(atrial_f[\"dfa_m\"],atrial_f[\"dfa_v\"],color='red')\n",
    "b=plt.scatter(congestive_h[\"dfa_m\"],congestive_h[\"dfa_v\"],color='blue')\n",
    "c=plt.scatter(myocardial_i[\"dfa_m\"],myocardial_i[\"dfa_v\"],color='green')\n",
    "\n",
    "plt.title(\"DFA\")\n",
    "plt.axis\n",
    "plt.legend((a,b,c),(\"AF\",\"CHF\",\"MI\"))"
   ]
  },
  {
   "cell_type": "code",
   "execution_count": 448,
   "metadata": {},
   "outputs": [
    {
     "data": {
      "text/plain": [
       "<matplotlib.legend.Legend at 0x21f84bf7f70>"
      ]
     },
     "execution_count": 448,
     "metadata": {},
     "output_type": "execute_result"
    },
    {
     "data": {
      "image/png": "[encoded data removed]",
      "text/plain": [
       "<Figure size 432x288 with 1 Axes>"
      ]
     },
     "metadata": {
      "needs_background": "light"
     },
     "output_type": "display_data"
    }
   ],
   "source": [
    "a=plt.scatter(atrial_f[\"hfd_m\"],atrial_f[\"hfd_v\"],color='red')\n",
    "b=plt.scatter(congestive_h[\"hfd_m\"],congestive_h[\"hfd_v\"],color='blue')\n",
    "c=plt.scatter(myocardial_i[\"hfd_m\"],myocardial_i[\"hfd_v\"],color='green')\n",
    "\n",
    "plt.title(\"Higuchi\")\n",
    "plt.axis\n",
    "plt.legend((a,b,c),(\"AF\",\"CHF\",\"MI\"))"
   ]
  },
  {
   "cell_type": "code",
   "execution_count": 449,
   "metadata": {},
   "outputs": [
    {
     "data": {
      "text/plain": [
       "<matplotlib.legend.Legend at 0x21f84a71190>"
      ]
     },
     "execution_count": 449,
     "metadata": {},
     "output_type": "execute_result"
    },
    {
     "data": {
      "image/png": "[encoded data removed]",
      "text/plain": [
       "<Figure size 432x288 with 1 Axes>"
      ]
     },
     "metadata": {
      "needs_background": "light"
     },
     "output_type": "display_data"
    }
   ],
   "source": [
    "a=plt.scatter(atrial_f[\"ae_m\"],atrial_f[\"ae_v\"],color='red')\n",
    "b=plt.scatter(congestive_h[\"ae_m\"],congestive_h[\"ae_v\"],color='blue')\n",
    "c=plt.scatter(myocardial_i[\"ae_m\"],myocardial_i[\"ae_v\"],color='green')\n",
    "\n",
    "plt.title(\"Approximate entropy\")\n",
    "plt.axis\n",
    "plt.legend((a,b,c),(\"AF\",\"CHF\",\"MI\"))"
   ]
  },
  {
   "cell_type": "code",
   "execution_count": 450,
   "metadata": {},
   "outputs": [
    {
     "data": {
      "text/plain": [
       "<matplotlib.legend.Legend at 0x21f84ae5d00>"
      ]
     },
     "execution_count": 450,
     "metadata": {},
     "output_type": "execute_result"
    },
    {
     "data": {
      "image/png": "[encoded data removed]",
      "text/plain": [
       "<Figure size 432x288 with 1 Axes>"
      ]
     },
     "metadata": {
      "needs_background": "light"
     },
     "output_type": "display_data"
    }
   ],
   "source": [
    "a=plt.scatter(atrial_f[\"se_m\"],atrial_f[\"se_v\"],color='red')\n",
    "b=plt.scatter(congestive_h[\"se_m\"],congestive_h[\"se_v\"],color='blue')\n",
    "c=plt.scatter(myocardial_i[\"se_m\"],myocardial_i[\"se_v\"],color='green')\n",
    "\n",
    "plt.title(\"Sample entropy\")\n",
    "plt.axis\n",
    "plt.legend((a,b,c),(\"AF\",\"CHF\",\"MI\"))"
   ]
  },
  {
   "cell_type": "markdown",
   "metadata": {},
   "source": [
    "<h2>Train and datasets<h2>"
   ]
  },
  {
   "cell_type": "code",
   "execution_count": 430,
   "metadata": {},
   "outputs": [
    {
     "name": "stdout",
     "output_type": "stream",
     "text": [
      "12093\n",
      "12093\n"
     ]
    }
   ],
   "source": [
    "X_train,X_test,y_train,y_test = train_test_split(X,targets,test_size=0.20,random_state=1)\n",
    "print(len(X_train))\n",
    "print(len(y_train))"
   ]
  },
  {
   "cell_type": "markdown",
   "metadata": {},
   "source": [
    "<h2>Logistic regression function<h2>"
   ]
  },
  {
   "cell_type": "code",
   "execution_count": 417,
   "metadata": {},
   "outputs": [],
   "source": [
    "logistic_regression= LogisticRegression(max_iter=20000)\n",
    "logistic_regression.fit(X_train,y_train)\n",
    "y_pred=logistic_regression.predict(X_test)\n",
    "y_test=np.array(y_test)"
   ]
  },
  {
   "cell_type": "markdown",
   "metadata": {},
   "source": [
    "<h2>Confussion matrix<h2>"
   ]
  },
  {
   "cell_type": "code",
   "execution_count": 418,
   "metadata": {},
   "outputs": [
    {
     "data": {
      "text/plain": [
       "<matplotlib.axes._subplots.AxesSubplot at 0x21f82f477f0>"
      ]
     },
     "execution_count": 418,
     "metadata": {},
     "output_type": "execute_result"
    },
    {
     "data": {
      "image/png": "[encoded data removed]",
      "text/plain": [
       "<Figure size 432x288 with 2 Axes>"
      ]
     },
     "metadata": {
      "needs_background": "light"
     },
     "output_type": "display_data"
    }
   ],
   "source": [
    "confusion_matrix = pd.crosstab(y_test, y_pred, rownames=['Actual'], colnames=['Predicted'])\n",
    "sn.heatmap(confusion_matrix, annot=True)"
   ]
  },
  {
   "cell_type": "markdown",
   "metadata": {},
   "source": [
    "<h2>Accuracy<h2>"
   ]
  },
  {
   "cell_type": "code",
   "execution_count": 393,
   "metadata": {},
   "outputs": [
    {
     "name": "stdout",
     "output_type": "stream",
     "text": [
      "Accuracy:  0.4578096947935368\n"
     ]
    }
   ],
   "source": [
    "print('Accuracy: ',metrics.accuracy_score(y_test, y_pred))\n"
   ]
  },
  {
   "cell_type": "markdown",
   "metadata": {},
   "source": [
    "<h2>K nearest neightbors<h2>"
   ]
  },
  {
   "cell_type": "code",
   "execution_count": 422,
   "metadata": {},
   "outputs": [
    {
     "name": "stdout",
     "output_type": "stream",
     "text": [
      "Accuracy of K-NN classifier on training set: 0.70\n",
      "Accuracy of K-NN classifier on test set: 0.47\n"
     ]
    }
   ],
   "source": [
    "from sklearn.neighbors import NearestNeighbors\n",
    "from sklearn.neighbors import kneighbors_graph\n",
    "from sklearn.preprocessing import MinMaxScaler\n",
    "from sklearn.neighbors import KNeighborsClassifier\n",
    "\n",
    "scaler = MinMaxScaler()\n",
    "X_train_scaled = scaler.fit_transform(X_train)\n",
    "X_test_scaled = scaler.transform(X_test)\n",
    "\n",
    "knn = KNeighborsClassifier(n_neighbors = 3)\n",
    "knn.fit(X_train_scaled, y_train)\n",
    "\n",
    "#Checking performance on the training set\n",
    "print('Accuracy of K-NN classifier on training set: {:.2f}'\n",
    "     .format(knn.score(X_train_scaled, y_train)))\n",
    "#Checking performance on the test set\n",
    "print('Accuracy of K-NN classifier on test set: {:.2f}'\n",
    "     .format(knn.score(X_test_scaled, y_test)))\n",
    "\n",
    "knn.kneighbors_graph()"
   ]
  },
  {
   "cell_type": "markdown",
   "metadata": {},
   "source": [
    "<h2>Gaussian Naive Bayes<h2>"
   ]
  },
  {
   "cell_type": "code",
   "execution_count": 395,
   "metadata": {},
   "outputs": [
    {
     "name": "stdout",
     "output_type": "stream",
     "text": [
      "Number of mislabeled points out of a total 1114 points : 650\n",
      "Accuracy :  0.4165170556552962\n"
     ]
    }
   ],
   "source": [
    "from sklearn.naive_bayes import GaussianNB\n",
    "\n",
    "gnb = GaussianNB()\n",
    "y_pred = gnb.fit(X_train, y_train).predict(X_test)\n",
    "print(\"Number of mislabeled points out of a total %d points : %d\" \n",
    "      % (X_test.shape[0], (y_test != y_pred).sum()))\n",
    "acc=1-(y_test != y_pred).sum()/X_test.shape[0]\n",
    "print(\"Accuracy : \", acc)"
   ]
  },
  {
   "cell_type": "markdown",
   "metadata": {},
   "source": [
    "<h2>Complement Naive Bayes<h2>"
   ]
  },
  {
   "cell_type": "code",
   "execution_count": 396,
   "metadata": {},
   "outputs": [
    {
     "name": "stdout",
     "output_type": "stream",
     "text": [
      "Number of mislabeled points out of a total 1114 points : 646\n",
      "Accuracy :  0.42010771992818674\n"
     ]
    }
   ],
   "source": [
    "from sklearn.naive_bayes import ComplementNB\n",
    "\n",
    "cnb = ComplementNB()\n",
    "y_pred = cnb.fit(X_train, y_train).predict(X_test)\n",
    "print(\"Number of mislabeled points out of a total %d points : %d\" \n",
    "      % (X_test.shape[0], (y_test != y_pred).sum()))\n",
    "acc=1-(y_test != y_pred).sum()/X_test.shape[0]\n",
    "print(\"Accuracy : \", acc)"
   ]
  },
  {
   "cell_type": "markdown",
   "metadata": {},
   "source": [
    "<h2>Multinomial Naive Bayes<h2>"
   ]
  },
  {
   "cell_type": "code",
   "execution_count": 397,
   "metadata": {},
   "outputs": [
    {
     "name": "stdout",
     "output_type": "stream",
     "text": [
      "Number of mislabeled points out of a total 1114 points : 645\n",
      "Accuracy :  0.42100538599640935\n"
     ]
    }
   ],
   "source": [
    "from sklearn.naive_bayes import MultinomialNB\n",
    "\n",
    "mnb = MultinomialNB()\n",
    "y_pred = mnb.fit(X_train, y_train).predict(X_test)\n",
    "print(\"Number of mislabeled points out of a total %d points : %d\" \n",
    "      % (X_test.shape[0], (y_test != y_pred).sum()))\n",
    "acc=1-(y_test != y_pred).sum()/X_test.shape[0]\n",
    "print(\"Accuracy : \", acc)"
   ]
  },
  {
   "cell_type": "markdown",
   "metadata": {},
   "source": [
    "<h2>Bernoulli Naive Bayes<h2>"
   ]
  },
  {
   "cell_type": "code",
   "execution_count": 398,
   "metadata": {},
   "outputs": [
    {
     "name": "stdout",
     "output_type": "stream",
     "text": [
      "Number of mislabeled points out of a total 1114 points : 681\n",
      "Accuracy :  0.38868940754039494\n"
     ]
    }
   ],
   "source": [
    "from sklearn.naive_bayes import BernoulliNB\n",
    "\n",
    "bnb = BernoulliNB()\n",
    "y_pred = bnb.fit(X_train, y_train).predict(X_test)\n",
    "print(\"Number of mislabeled points out of a total %d points : %d\" \n",
    "      % (X_test.shape[0], (y_test != y_pred).sum()))\n",
    "acc=1-(y_test != y_pred).sum()/X_test.shape[0]\n",
    "print(\"Accuracy : \", acc)"
   ]
  },
  {
   "cell_type": "markdown",
   "metadata": {},
   "source": [
    "<h2>Multi-layer Perceptron<h2>"
   ]
  },
  {
   "cell_type": "code",
   "execution_count": 434,
   "metadata": {},
   "outputs": [
    {
     "name": "stdout",
     "output_type": "stream",
     "text": [
      "0.5929232804232805\n"
     ]
    },
    {
     "data": {
      "text/plain": [
       "<matplotlib.axes._subplots.AxesSubplot at 0x21f836d98b0>"
      ]
     },
     "execution_count": 434,
     "metadata": {},
     "output_type": "execute_result"
    },
    {
     "data": {
      "image/png": "[encoded data removed]",
      "text/plain": [
       "<Figure size 432x288 with 2 Axes>"
      ]
     },
     "metadata": {
      "needs_background": "light"
     },
     "output_type": "display_data"
    }
   ],
   "source": [
    "from sklearn.neural_network import MLPClassifier\n",
    "from sklearn.preprocessing import StandardScaler\n",
    "\n",
    "sc = StandardScaler()\n",
    "X_train = sc.fit_transform(X_train)\n",
    "\n",
    "clf = MLPClassifier(solver='lbfgs', alpha=1e-5, hidden_layer_sizes=(10, 2), random_state=1,max_iter=20000)\n",
    "clf.fit(X_train, y_train)\n",
    "\n",
    "X_test = sc.fit_transform(X_test)\n",
    "\n",
    "print(clf.score(X_test, y_test))\n",
    "\n",
    "y_pred = clf.predict(X_test)\n",
    "confusion_matrix = pd.crosstab(np.array(y_test), np.array(y_pred), rownames=['Actual'], colnames=['Predicted'])\n",
    "sn.heatmap(confusion_matrix, annot=True)"
   ]
  },
  {
   "cell_type": "code",
   "execution_count": null,
   "metadata": {},
   "outputs": [],
   "source": []
  }
 ],
 "metadata": {
  "kernelspec": {
   "display_name": "Python 3",
   "language": "python",
   "name": "python3"
  },
  "language_info": {
   "codemirror_mode": {
    "name": "ipython",
    "version": 3
   },
   "file_extension": ".py",
   "mimetype": "text/x-python",
   "name": "python",
   "nbconvert_exporter": "python",
   "pygments_lexer": "ipython3",
   "version": "3.8.3"
  }
 },
 "nbformat": 4,
 "nbformat_minor": 4
}
