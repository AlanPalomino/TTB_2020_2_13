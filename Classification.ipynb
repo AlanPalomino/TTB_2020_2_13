{
 "cells": [
  {
   "cell_type": "code",
   "execution_count": 2,
   "metadata": {},
   "outputs": [],
   "source": [
    "import pandas as pd\n",
    "import numpy as np\n",
    "from sklearn.linear_model import LogisticRegression\n",
    "from sklearn.model_selection import train_test_split\n",
    "import seaborn as sn\n",
    "from sklearn import metrics\n",
    "import matplotlib.pyplot as plt"
   ]
  },
  {
   "cell_type": "markdown",
   "metadata": {},
   "source": [
    "<h2>Import data set<h2>"
   ]
  },
  {
   "cell_type": "code",
   "execution_count": 3,
   "metadata": {},
   "outputs": [
    {
     "data": {
      "text/html": [
       "<div>\n",
       "<style scoped>\n",
       "    .dataframe tbody tr th:only-of-type {\n",
       "        vertical-align: middle;\n",
       "    }\n",
       "\n",
       "    .dataframe tbody tr th {\n",
       "        vertical-align: top;\n",
       "    }\n",
       "\n",
       "    .dataframe thead th {\n",
       "        text-align: right;\n",
       "    }\n",
       "</style>\n",
       "<table border=\"1\" class=\"dataframe\">\n",
       "  <thead>\n",
       "    <tr style=\"text-align: right;\">\n",
       "      <th></th>\n",
       "      <th>case</th>\n",
       "      <th>record</th>\n",
       "      <th>cond</th>\n",
       "      <th>ae_m</th>\n",
       "      <th>ae_v</th>\n",
       "      <th>se_m</th>\n",
       "      <th>se_v</th>\n",
       "      <th>hfd_m</th>\n",
       "      <th>hfd_v</th>\n",
       "      <th>dfa_m</th>\n",
       "      <th>dfa_v</th>\n",
       "      <th>psd_m</th>\n",
       "      <th>psd_v</th>\n",
       "      <th>Unnamed: 0</th>\n",
       "    </tr>\n",
       "  </thead>\n",
       "  <tbody>\n",
       "    <tr>\n",
       "      <th>0</th>\n",
       "      <td>p080120</td>\n",
       "      <td>3406983_0002</td>\n",
       "      <td>0</td>\n",
       "      <td>1.168396</td>\n",
       "      <td>0.004582</td>\n",
       "      <td>0.964767</td>\n",
       "      <td>0.009790</td>\n",
       "      <td>2.070072</td>\n",
       "      <td>0.000166</td>\n",
       "      <td>0.172803</td>\n",
       "      <td>0.000307</td>\n",
       "      <td>0.520330</td>\n",
       "      <td>0.000906</td>\n",
       "      <td>NaN</td>\n",
       "    </tr>\n",
       "    <tr>\n",
       "      <th>1</th>\n",
       "      <td>p080120</td>\n",
       "      <td>3406983_0003</td>\n",
       "      <td>0</td>\n",
       "      <td>1.047608</td>\n",
       "      <td>0.042369</td>\n",
       "      <td>0.802464</td>\n",
       "      <td>0.049698</td>\n",
       "      <td>2.090014</td>\n",
       "      <td>0.000189</td>\n",
       "      <td>0.154892</td>\n",
       "      <td>0.000404</td>\n",
       "      <td>0.468682</td>\n",
       "      <td>0.001764</td>\n",
       "      <td>NaN</td>\n",
       "    </tr>\n",
       "    <tr>\n",
       "      <th>2</th>\n",
       "      <td>p080120</td>\n",
       "      <td>3406983_0007</td>\n",
       "      <td>0</td>\n",
       "      <td>1.135748</td>\n",
       "      <td>0.032810</td>\n",
       "      <td>0.831941</td>\n",
       "      <td>0.067280</td>\n",
       "      <td>2.085422</td>\n",
       "      <td>0.000052</td>\n",
       "      <td>0.148726</td>\n",
       "      <td>0.000284</td>\n",
       "      <td>0.431369</td>\n",
       "      <td>0.001633</td>\n",
       "      <td>NaN</td>\n",
       "    </tr>\n",
       "    <tr>\n",
       "      <th>3</th>\n",
       "      <td>p080120</td>\n",
       "      <td>3406983_0009</td>\n",
       "      <td>0</td>\n",
       "      <td>1.089244</td>\n",
       "      <td>0.049727</td>\n",
       "      <td>0.849848</td>\n",
       "      <td>0.069910</td>\n",
       "      <td>2.091715</td>\n",
       "      <td>0.000124</td>\n",
       "      <td>0.178373</td>\n",
       "      <td>0.003703</td>\n",
       "      <td>0.485346</td>\n",
       "      <td>0.006567</td>\n",
       "      <td>NaN</td>\n",
       "    </tr>\n",
       "    <tr>\n",
       "      <th>4</th>\n",
       "      <td>p080120</td>\n",
       "      <td>3406983_0011</td>\n",
       "      <td>0</td>\n",
       "      <td>0.839026</td>\n",
       "      <td>0.103725</td>\n",
       "      <td>0.625933</td>\n",
       "      <td>0.097401</td>\n",
       "      <td>2.113146</td>\n",
       "      <td>0.003489</td>\n",
       "      <td>0.166810</td>\n",
       "      <td>0.002794</td>\n",
       "      <td>0.441605</td>\n",
       "      <td>0.007855</td>\n",
       "      <td>NaN</td>\n",
       "    </tr>\n",
       "    <tr>\n",
       "      <th>...</th>\n",
       "      <td>...</td>\n",
       "      <td>...</td>\n",
       "      <td>...</td>\n",
       "      <td>...</td>\n",
       "      <td>...</td>\n",
       "      <td>...</td>\n",
       "      <td>...</td>\n",
       "      <td>...</td>\n",
       "      <td>...</td>\n",
       "      <td>...</td>\n",
       "      <td>...</td>\n",
       "      <td>...</td>\n",
       "      <td>...</td>\n",
       "      <td>...</td>\n",
       "    </tr>\n",
       "    <tr>\n",
       "      <th>15112</th>\n",
       "      <td>p093900</td>\n",
       "      <td>3830735_0011</td>\n",
       "      <td>1</td>\n",
       "      <td>0.781379</td>\n",
       "      <td>0.039406</td>\n",
       "      <td>0.604919</td>\n",
       "      <td>0.070200</td>\n",
       "      <td>2.088072</td>\n",
       "      <td>0.000423</td>\n",
       "      <td>0.212267</td>\n",
       "      <td>0.004820</td>\n",
       "      <td>0.552899</td>\n",
       "      <td>0.005583</td>\n",
       "      <td>7.0</td>\n",
       "    </tr>\n",
       "    <tr>\n",
       "      <th>15113</th>\n",
       "      <td>p093900</td>\n",
       "      <td>3830735_0013</td>\n",
       "      <td>1</td>\n",
       "      <td>0.742207</td>\n",
       "      <td>0.035708</td>\n",
       "      <td>0.617933</td>\n",
       "      <td>0.041877</td>\n",
       "      <td>2.093576</td>\n",
       "      <td>0.000966</td>\n",
       "      <td>0.185574</td>\n",
       "      <td>0.005470</td>\n",
       "      <td>0.482693</td>\n",
       "      <td>0.011504</td>\n",
       "      <td>8.0</td>\n",
       "    </tr>\n",
       "    <tr>\n",
       "      <th>15114</th>\n",
       "      <td>p093900</td>\n",
       "      <td>3830735_0019</td>\n",
       "      <td>1</td>\n",
       "      <td>0.516458</td>\n",
       "      <td>0.008824</td>\n",
       "      <td>0.305300</td>\n",
       "      <td>0.006787</td>\n",
       "      <td>2.075331</td>\n",
       "      <td>0.000292</td>\n",
       "      <td>0.250197</td>\n",
       "      <td>0.000718</td>\n",
       "      <td>0.448389</td>\n",
       "      <td>0.004131</td>\n",
       "      <td>9.0</td>\n",
       "    </tr>\n",
       "    <tr>\n",
       "      <th>15115</th>\n",
       "      <td>p094007</td>\n",
       "      <td>3433819_0001</td>\n",
       "      <td>1</td>\n",
       "      <td>1.432638</td>\n",
       "      <td>0.001476</td>\n",
       "      <td>1.410608</td>\n",
       "      <td>0.010145</td>\n",
       "      <td>2.057172</td>\n",
       "      <td>0.000205</td>\n",
       "      <td>0.253336</td>\n",
       "      <td>0.000756</td>\n",
       "      <td>0.586211</td>\n",
       "      <td>0.000665</td>\n",
       "      <td>0.0</td>\n",
       "    </tr>\n",
       "    <tr>\n",
       "      <th>15116</th>\n",
       "      <td>p094007</td>\n",
       "      <td>3433819_0002</td>\n",
       "      <td>1</td>\n",
       "      <td>1.424298</td>\n",
       "      <td>0.004650</td>\n",
       "      <td>1.389438</td>\n",
       "      <td>0.018489</td>\n",
       "      <td>2.059988</td>\n",
       "      <td>0.000144</td>\n",
       "      <td>0.302056</td>\n",
       "      <td>0.001985</td>\n",
       "      <td>0.621348</td>\n",
       "      <td>0.001887</td>\n",
       "      <td>1.0</td>\n",
       "    </tr>\n",
       "  </tbody>\n",
       "</table>\n",
       "<p>15117 rows × 14 columns</p>\n",
       "</div>"
      ],
      "text/plain": [
       "          case        record  cond      ae_m      ae_v      se_m      se_v  \\\n",
       "0      p080120  3406983_0002     0  1.168396  0.004582  0.964767  0.009790   \n",
       "1      p080120  3406983_0003     0  1.047608  0.042369  0.802464  0.049698   \n",
       "2      p080120  3406983_0007     0  1.135748  0.032810  0.831941  0.067280   \n",
       "3      p080120  3406983_0009     0  1.089244  0.049727  0.849848  0.069910   \n",
       "4      p080120  3406983_0011     0  0.839026  0.103725  0.625933  0.097401   \n",
       "...        ...           ...   ...       ...       ...       ...       ...   \n",
       "15112  p093900  3830735_0011     1  0.781379  0.039406  0.604919  0.070200   \n",
       "15113  p093900  3830735_0013     1  0.742207  0.035708  0.617933  0.041877   \n",
       "15114  p093900  3830735_0019     1  0.516458  0.008824  0.305300  0.006787   \n",
       "15115  p094007  3433819_0001     1  1.432638  0.001476  1.410608  0.010145   \n",
       "15116  p094007  3433819_0002     1  1.424298  0.004650  1.389438  0.018489   \n",
       "\n",
       "          hfd_m     hfd_v     dfa_m     dfa_v     psd_m     psd_v  Unnamed: 0  \n",
       "0      2.070072  0.000166  0.172803  0.000307  0.520330  0.000906         NaN  \n",
       "1      2.090014  0.000189  0.154892  0.000404  0.468682  0.001764         NaN  \n",
       "2      2.085422  0.000052  0.148726  0.000284  0.431369  0.001633         NaN  \n",
       "3      2.091715  0.000124  0.178373  0.003703  0.485346  0.006567         NaN  \n",
       "4      2.113146  0.003489  0.166810  0.002794  0.441605  0.007855         NaN  \n",
       "...         ...       ...       ...       ...       ...       ...         ...  \n",
       "15112  2.088072  0.000423  0.212267  0.004820  0.552899  0.005583         7.0  \n",
       "15113  2.093576  0.000966  0.185574  0.005470  0.482693  0.011504         8.0  \n",
       "15114  2.075331  0.000292  0.250197  0.000718  0.448389  0.004131         9.0  \n",
       "15115  2.057172  0.000205  0.253336  0.000756  0.586211  0.000665         0.0  \n",
       "15116  2.059988  0.000144  0.302056  0.001985  0.621348  0.001887         1.0  \n",
       "\n",
       "[15117 rows x 14 columns]"
      ]
     },
     "execution_count": 3,
     "metadata": {},
     "output_type": "execute_result"
    }
   ],
   "source": [
    "data=pd.read_csv(\"complete_data.csv\")\n",
    "data\n",
    "# 0 - Fibrilacion Atrial\n",
    "# 1 - Congestión cardíaca\n",
    "# 2 - Infarto al miocardio"
   ]
  },
  {
   "cell_type": "markdown",
   "metadata": {},
   "source": [
    "<h2>Extract Non linear analysis<h2>"
   ]
  },
  {
   "cell_type": "code",
   "execution_count": 4,
   "metadata": {},
   "outputs": [
    {
     "data": {
      "text/html": [
       "<div>\n",
       "<style scoped>\n",
       "    .dataframe tbody tr th:only-of-type {\n",
       "        vertical-align: middle;\n",
       "    }\n",
       "\n",
       "    .dataframe tbody tr th {\n",
       "        vertical-align: top;\n",
       "    }\n",
       "\n",
       "    .dataframe thead th {\n",
       "        text-align: right;\n",
       "    }\n",
       "</style>\n",
       "<table border=\"1\" class=\"dataframe\">\n",
       "  <thead>\n",
       "    <tr style=\"text-align: right;\">\n",
       "      <th></th>\n",
       "      <th>cond</th>\n",
       "      <th>ae_m</th>\n",
       "      <th>ae_v</th>\n",
       "      <th>se_m</th>\n",
       "      <th>se_v</th>\n",
       "      <th>hfd_m</th>\n",
       "      <th>hfd_v</th>\n",
       "      <th>dfa_m</th>\n",
       "      <th>dfa_v</th>\n",
       "      <th>psd_m</th>\n",
       "      <th>psd_v</th>\n",
       "    </tr>\n",
       "  </thead>\n",
       "  <tbody>\n",
       "    <tr>\n",
       "      <th>13618</th>\n",
       "      <td>1</td>\n",
       "      <td>0.996047</td>\n",
       "      <td>0.037387</td>\n",
       "      <td>0.777091</td>\n",
       "      <td>0.038516</td>\n",
       "      <td>2.082666</td>\n",
       "      <td>0.000184</td>\n",
       "      <td>0.228997</td>\n",
       "      <td>0.003225</td>\n",
       "      <td>0.593321</td>\n",
       "      <td>0.001914</td>\n",
       "    </tr>\n",
       "    <tr>\n",
       "      <th>9510</th>\n",
       "      <td>2</td>\n",
       "      <td>1.459295</td>\n",
       "      <td>0.175903</td>\n",
       "      <td>1.638195</td>\n",
       "      <td>0.241155</td>\n",
       "      <td>1.991713</td>\n",
       "      <td>0.000108</td>\n",
       "      <td>0.673738</td>\n",
       "      <td>0.014856</td>\n",
       "      <td>1.131975</td>\n",
       "      <td>0.009051</td>\n",
       "    </tr>\n",
       "    <tr>\n",
       "      <th>12168</th>\n",
       "      <td>2</td>\n",
       "      <td>0.658485</td>\n",
       "      <td>0.151137</td>\n",
       "      <td>0.519892</td>\n",
       "      <td>0.128562</td>\n",
       "      <td>2.064308</td>\n",
       "      <td>0.000248</td>\n",
       "      <td>0.132142</td>\n",
       "      <td>0.000642</td>\n",
       "      <td>0.522143</td>\n",
       "      <td>0.003944</td>\n",
       "    </tr>\n",
       "    <tr>\n",
       "      <th>407</th>\n",
       "      <td>0</td>\n",
       "      <td>0.438528</td>\n",
       "      <td>0.017924</td>\n",
       "      <td>0.447324</td>\n",
       "      <td>0.044488</td>\n",
       "      <td>2.117136</td>\n",
       "      <td>0.003463</td>\n",
       "      <td>0.091575</td>\n",
       "      <td>0.001196</td>\n",
       "      <td>0.588862</td>\n",
       "      <td>0.000578</td>\n",
       "    </tr>\n",
       "    <tr>\n",
       "      <th>6116</th>\n",
       "      <td>1</td>\n",
       "      <td>0.997368</td>\n",
       "      <td>0.006219</td>\n",
       "      <td>0.874161</td>\n",
       "      <td>0.006626</td>\n",
       "      <td>2.087007</td>\n",
       "      <td>0.000035</td>\n",
       "      <td>0.220928</td>\n",
       "      <td>0.000596</td>\n",
       "      <td>0.434514</td>\n",
       "      <td>0.001098</td>\n",
       "    </tr>\n",
       "    <tr>\n",
       "      <th>...</th>\n",
       "      <td>...</td>\n",
       "      <td>...</td>\n",
       "      <td>...</td>\n",
       "      <td>...</td>\n",
       "      <td>...</td>\n",
       "      <td>...</td>\n",
       "      <td>...</td>\n",
       "      <td>...</td>\n",
       "      <td>...</td>\n",
       "      <td>...</td>\n",
       "      <td>...</td>\n",
       "    </tr>\n",
       "    <tr>\n",
       "      <th>905</th>\n",
       "      <td>0</td>\n",
       "      <td>0.409361</td>\n",
       "      <td>0.029466</td>\n",
       "      <td>0.346849</td>\n",
       "      <td>0.035472</td>\n",
       "      <td>2.155621</td>\n",
       "      <td>0.008646</td>\n",
       "      <td>0.188374</td>\n",
       "      <td>0.019490</td>\n",
       "      <td>0.485818</td>\n",
       "      <td>0.028506</td>\n",
       "    </tr>\n",
       "    <tr>\n",
       "      <th>5192</th>\n",
       "      <td>1</td>\n",
       "      <td>0.866734</td>\n",
       "      <td>0.027653</td>\n",
       "      <td>0.675285</td>\n",
       "      <td>0.016848</td>\n",
       "      <td>2.099799</td>\n",
       "      <td>0.000121</td>\n",
       "      <td>0.217027</td>\n",
       "      <td>0.003732</td>\n",
       "      <td>0.549319</td>\n",
       "      <td>0.004379</td>\n",
       "    </tr>\n",
       "    <tr>\n",
       "      <th>12172</th>\n",
       "      <td>2</td>\n",
       "      <td>0.589101</td>\n",
       "      <td>0.035249</td>\n",
       "      <td>0.422407</td>\n",
       "      <td>0.028428</td>\n",
       "      <td>2.062609</td>\n",
       "      <td>0.000913</td>\n",
       "      <td>0.436668</td>\n",
       "      <td>0.003187</td>\n",
       "      <td>0.815490</td>\n",
       "      <td>0.004594</td>\n",
       "    </tr>\n",
       "    <tr>\n",
       "      <th>235</th>\n",
       "      <td>0</td>\n",
       "      <td>1.104599</td>\n",
       "      <td>0.018100</td>\n",
       "      <td>0.908868</td>\n",
       "      <td>0.028744</td>\n",
       "      <td>2.075963</td>\n",
       "      <td>0.000091</td>\n",
       "      <td>0.288457</td>\n",
       "      <td>0.001361</td>\n",
       "      <td>0.614435</td>\n",
       "      <td>0.001108</td>\n",
       "    </tr>\n",
       "    <tr>\n",
       "      <th>13349</th>\n",
       "      <td>2</td>\n",
       "      <td>0.403556</td>\n",
       "      <td>0.008735</td>\n",
       "      <td>0.287017</td>\n",
       "      <td>0.009632</td>\n",
       "      <td>2.096621</td>\n",
       "      <td>0.001066</td>\n",
       "      <td>0.332258</td>\n",
       "      <td>0.013089</td>\n",
       "      <td>0.462145</td>\n",
       "      <td>0.020456</td>\n",
       "    </tr>\n",
       "  </tbody>\n",
       "</table>\n",
       "<p>15117 rows × 11 columns</p>\n",
       "</div>"
      ],
      "text/plain": [
       "       cond      ae_m      ae_v      se_m      se_v     hfd_m     hfd_v  \\\n",
       "13618     1  0.996047  0.037387  0.777091  0.038516  2.082666  0.000184   \n",
       "9510      2  1.459295  0.175903  1.638195  0.241155  1.991713  0.000108   \n",
       "12168     2  0.658485  0.151137  0.519892  0.128562  2.064308  0.000248   \n",
       "407       0  0.438528  0.017924  0.447324  0.044488  2.117136  0.003463   \n",
       "6116      1  0.997368  0.006219  0.874161  0.006626  2.087007  0.000035   \n",
       "...     ...       ...       ...       ...       ...       ...       ...   \n",
       "905       0  0.409361  0.029466  0.346849  0.035472  2.155621  0.008646   \n",
       "5192      1  0.866734  0.027653  0.675285  0.016848  2.099799  0.000121   \n",
       "12172     2  0.589101  0.035249  0.422407  0.028428  2.062609  0.000913   \n",
       "235       0  1.104599  0.018100  0.908868  0.028744  2.075963  0.000091   \n",
       "13349     2  0.403556  0.008735  0.287017  0.009632  2.096621  0.001066   \n",
       "\n",
       "          dfa_m     dfa_v     psd_m     psd_v  \n",
       "13618  0.228997  0.003225  0.593321  0.001914  \n",
       "9510   0.673738  0.014856  1.131975  0.009051  \n",
       "12168  0.132142  0.000642  0.522143  0.003944  \n",
       "407    0.091575  0.001196  0.588862  0.000578  \n",
       "6116   0.220928  0.000596  0.434514  0.001098  \n",
       "...         ...       ...       ...       ...  \n",
       "905    0.188374  0.019490  0.485818  0.028506  \n",
       "5192   0.217027  0.003732  0.549319  0.004379  \n",
       "12172  0.436668  0.003187  0.815490  0.004594  \n",
       "235    0.288457  0.001361  0.614435  0.001108  \n",
       "13349  0.332258  0.013089  0.462145  0.020456  \n",
       "\n",
       "[15117 rows x 11 columns]"
      ]
     },
     "execution_count": 4,
     "metadata": {},
     "output_type": "execute_result"
    }
   ],
   "source": [
    "pathology = data[[\"cond\",\"ae_m\",\"ae_v\",\"se_m\",\"se_v\",\"hfd_m\",\"hfd_v\",\"dfa_m\",\"dfa_v\",\"psd_m\",\"psd_v\"]]\n",
    "random = pathology.sample(n=15117,random_state=1)\n",
    "random"
   ]
  },
  {
   "cell_type": "markdown",
   "metadata": {},
   "source": [
    "<h2>Define train set and targets<h2>"
   ]
  },
  {
   "cell_type": "code",
   "execution_count": 267,
   "metadata": {},
   "outputs": [
    {
     "data": {
      "text/html": [
       "<div>\n",
       "<style scoped>\n",
       "    .dataframe tbody tr th:only-of-type {\n",
       "        vertical-align: middle;\n",
       "    }\n",
       "\n",
       "    .dataframe tbody tr th {\n",
       "        vertical-align: top;\n",
       "    }\n",
       "\n",
       "    .dataframe thead th {\n",
       "        text-align: right;\n",
       "    }\n",
       "</style>\n",
       "<table border=\"1\" class=\"dataframe\">\n",
       "  <thead>\n",
       "    <tr style=\"text-align: right;\">\n",
       "      <th></th>\n",
       "      <th>ae_m</th>\n",
       "      <th>ae_v</th>\n",
       "      <th>se_m</th>\n",
       "      <th>se_v</th>\n",
       "      <th>hfd_m</th>\n",
       "      <th>hfd_v</th>\n",
       "      <th>dfa_m</th>\n",
       "      <th>dfa_v</th>\n",
       "      <th>psd_m</th>\n",
       "      <th>psd_v</th>\n",
       "    </tr>\n",
       "  </thead>\n",
       "  <tbody>\n",
       "    <tr>\n",
       "      <th>0</th>\n",
       "      <td>1.168396</td>\n",
       "      <td>0.004582</td>\n",
       "      <td>0.964767</td>\n",
       "      <td>0.009790</td>\n",
       "      <td>2.070072</td>\n",
       "      <td>0.000166</td>\n",
       "      <td>0.172803</td>\n",
       "      <td>0.000307</td>\n",
       "      <td>0.520330</td>\n",
       "      <td>0.000906</td>\n",
       "    </tr>\n",
       "    <tr>\n",
       "      <th>1</th>\n",
       "      <td>1.047608</td>\n",
       "      <td>0.042369</td>\n",
       "      <td>0.802464</td>\n",
       "      <td>0.049698</td>\n",
       "      <td>2.090014</td>\n",
       "      <td>0.000189</td>\n",
       "      <td>0.154892</td>\n",
       "      <td>0.000404</td>\n",
       "      <td>0.468682</td>\n",
       "      <td>0.001764</td>\n",
       "    </tr>\n",
       "    <tr>\n",
       "      <th>2</th>\n",
       "      <td>1.135748</td>\n",
       "      <td>0.032810</td>\n",
       "      <td>0.831941</td>\n",
       "      <td>0.067280</td>\n",
       "      <td>2.085422</td>\n",
       "      <td>0.000052</td>\n",
       "      <td>0.148726</td>\n",
       "      <td>0.000284</td>\n",
       "      <td>0.431369</td>\n",
       "      <td>0.001633</td>\n",
       "    </tr>\n",
       "    <tr>\n",
       "      <th>3</th>\n",
       "      <td>1.089244</td>\n",
       "      <td>0.049727</td>\n",
       "      <td>0.849848</td>\n",
       "      <td>0.069910</td>\n",
       "      <td>2.091715</td>\n",
       "      <td>0.000124</td>\n",
       "      <td>0.178373</td>\n",
       "      <td>0.003703</td>\n",
       "      <td>0.485346</td>\n",
       "      <td>0.006567</td>\n",
       "    </tr>\n",
       "    <tr>\n",
       "      <th>4</th>\n",
       "      <td>0.839026</td>\n",
       "      <td>0.103725</td>\n",
       "      <td>0.625933</td>\n",
       "      <td>0.097401</td>\n",
       "      <td>2.113146</td>\n",
       "      <td>0.003489</td>\n",
       "      <td>0.166810</td>\n",
       "      <td>0.002794</td>\n",
       "      <td>0.441605</td>\n",
       "      <td>0.007855</td>\n",
       "    </tr>\n",
       "    <tr>\n",
       "      <th>...</th>\n",
       "      <td>...</td>\n",
       "      <td>...</td>\n",
       "      <td>...</td>\n",
       "      <td>...</td>\n",
       "      <td>...</td>\n",
       "      <td>...</td>\n",
       "      <td>...</td>\n",
       "      <td>...</td>\n",
       "      <td>...</td>\n",
       "      <td>...</td>\n",
       "    </tr>\n",
       "    <tr>\n",
       "      <th>2375</th>\n",
       "      <td>0.357847</td>\n",
       "      <td>0.035040</td>\n",
       "      <td>0.190519</td>\n",
       "      <td>0.015951</td>\n",
       "      <td>2.144276</td>\n",
       "      <td>0.005715</td>\n",
       "      <td>0.101033</td>\n",
       "      <td>0.001521</td>\n",
       "      <td>0.207355</td>\n",
       "      <td>0.006349</td>\n",
       "    </tr>\n",
       "    <tr>\n",
       "      <th>2376</th>\n",
       "      <td>0.276208</td>\n",
       "      <td>0.039963</td>\n",
       "      <td>0.163872</td>\n",
       "      <td>0.020853</td>\n",
       "      <td>2.275718</td>\n",
       "      <td>0.023954</td>\n",
       "      <td>0.073387</td>\n",
       "      <td>0.004340</td>\n",
       "      <td>0.177670</td>\n",
       "      <td>0.022851</td>\n",
       "    </tr>\n",
       "    <tr>\n",
       "      <th>2377</th>\n",
       "      <td>0.200050</td>\n",
       "      <td>0.030465</td>\n",
       "      <td>0.074932</td>\n",
       "      <td>0.004391</td>\n",
       "      <td>2.210002</td>\n",
       "      <td>0.010103</td>\n",
       "      <td>0.104876</td>\n",
       "      <td>0.003652</td>\n",
       "      <td>0.170984</td>\n",
       "      <td>0.011248</td>\n",
       "    </tr>\n",
       "    <tr>\n",
       "      <th>2378</th>\n",
       "      <td>0.136144</td>\n",
       "      <td>0.012872</td>\n",
       "      <td>0.061115</td>\n",
       "      <td>0.003265</td>\n",
       "      <td>2.263422</td>\n",
       "      <td>0.013864</td>\n",
       "      <td>0.118609</td>\n",
       "      <td>0.007931</td>\n",
       "      <td>0.160450</td>\n",
       "      <td>0.012134</td>\n",
       "    </tr>\n",
       "    <tr>\n",
       "      <th>2379</th>\n",
       "      <td>0.095249</td>\n",
       "      <td>0.010187</td>\n",
       "      <td>0.048536</td>\n",
       "      <td>0.004240</td>\n",
       "      <td>2.302717</td>\n",
       "      <td>0.024101</td>\n",
       "      <td>0.062491</td>\n",
       "      <td>0.002295</td>\n",
       "      <td>0.118445</td>\n",
       "      <td>0.007173</td>\n",
       "    </tr>\n",
       "  </tbody>\n",
       "</table>\n",
       "<p>2380 rows × 10 columns</p>\n",
       "</div>"
      ],
      "text/plain": [
       "          ae_m      ae_v      se_m      se_v     hfd_m     hfd_v     dfa_m  \\\n",
       "0     1.168396  0.004582  0.964767  0.009790  2.070072  0.000166  0.172803   \n",
       "1     1.047608  0.042369  0.802464  0.049698  2.090014  0.000189  0.154892   \n",
       "2     1.135748  0.032810  0.831941  0.067280  2.085422  0.000052  0.148726   \n",
       "3     1.089244  0.049727  0.849848  0.069910  2.091715  0.000124  0.178373   \n",
       "4     0.839026  0.103725  0.625933  0.097401  2.113146  0.003489  0.166810   \n",
       "...        ...       ...       ...       ...       ...       ...       ...   \n",
       "2375  0.357847  0.035040  0.190519  0.015951  2.144276  0.005715  0.101033   \n",
       "2376  0.276208  0.039963  0.163872  0.020853  2.275718  0.023954  0.073387   \n",
       "2377  0.200050  0.030465  0.074932  0.004391  2.210002  0.010103  0.104876   \n",
       "2378  0.136144  0.012872  0.061115  0.003265  2.263422  0.013864  0.118609   \n",
       "2379  0.095249  0.010187  0.048536  0.004240  2.302717  0.024101  0.062491   \n",
       "\n",
       "         dfa_v     psd_m     psd_v  \n",
       "0     0.000307  0.520330  0.000906  \n",
       "1     0.000404  0.468682  0.001764  \n",
       "2     0.000284  0.431369  0.001633  \n",
       "3     0.003703  0.485346  0.006567  \n",
       "4     0.002794  0.441605  0.007855  \n",
       "...        ...       ...       ...  \n",
       "2375  0.001521  0.207355  0.006349  \n",
       "2376  0.004340  0.177670  0.022851  \n",
       "2377  0.003652  0.170984  0.011248  \n",
       "2378  0.007931  0.160450  0.012134  \n",
       "2379  0.002295  0.118445  0.007173  \n",
       "\n",
       "[2380 rows x 10 columns]"
      ]
     },
     "execution_count": 267,
     "metadata": {},
     "output_type": "execute_result"
    }
   ],
   "source": [
    "a_f=pathology[pathology[\"cond\"] ==0]\n",
    "c_c=pathology[pathology[\"cond\"] ==1][0:1190]\n",
    "m_i=pathology[pathology[\"cond\"] ==2]\n",
    "\n",
    "atrial_f=a_f[[\"ae_m\",\"ae_v\",\"se_m\",\"se_v\",\"hfd_m\",\"hfd_v\",\"dfa_m\",\"dfa_v\",\"psd_m\",\"psd_v\"]]\n",
    "congestive_h=c_c[[\"ae_m\",\"ae_v\",\"se_m\",\"se_v\",\"hfd_m\",\"hfd_v\",\"dfa_m\",\"dfa_v\",\"psd_m\",\"psd_v\"]]\n",
    "myocardial_i=m_i[[\"ae_m\",\"ae_v\",\"se_m\",\"se_v\",\"hfd_m\",\"hfd_v\",\"dfa_m\",\"dfa_v\",\"psd_m\",\"psd_v\"]]\n",
    "\n",
    "targets=a_f['cond'].tolist()+c_c['cond'].tolist()\n",
    "X=pd.concat([atrial_f,congestive_h],ignore_index=True)\n",
    "X"
   ]
  },
  {
   "cell_type": "markdown",
   "metadata": {},
   "source": [
    "<h2>Histograms<h2>"
   ]
  },
  {
   "cell_type": "code",
   "execution_count": 79,
   "metadata": {},
   "outputs": [
    {
     "data": {
      "text/plain": [
       "<matplotlib.legend.Legend at 0x21fe85bfe20>"
      ]
     },
     "execution_count": 79,
     "metadata": {},
     "output_type": "execute_result"
    },
    {
     "data": {
      "image/png": "[encoded data removed]",
      "text/plain": [
       "<Figure size 432x288 with 1 Axes>"
      ]
     },
     "metadata": {
      "needs_background": "light"
     },
     "output_type": "display_data"
    }
   ],
   "source": [
    "se_af=a_f[\"se_m\"]\n",
    "se_cc=c_c[\"se_m\"]\n",
    "se_mi=m_i[\"se_m\"]\n",
    "\n",
    "\n",
    "sn.distplot(a=se_af,bins=200,color='#FF8427',kde=False,label=\"Atrial Fibrillation\")\n",
    "sn.distplot(a=se_cc,bins=200,color='#04A777',kde=False,label=\"Congestive heart f\")\n",
    "sn.distplot(a=se_mi,bins=200,color='#083D77',kde=False,label=\"Myocardial infarction\")\n",
    "\n",
    "plt.title(\"Sample entrophy (mean)\")\n",
    "plt.legend()\n"
   ]
  },
  {
   "cell_type": "code",
   "execution_count": 94,
   "metadata": {},
   "outputs": [
    {
     "data": {
      "text/plain": [
       "(0.0, 0.4)"
      ]
     },
     "execution_count": 94,
     "metadata": {},
     "output_type": "execute_result"
    },
    {
     "data": {
      "image/png": "[encoded data removed]",
      "text/plain": [
       "<Figure size 432x288 with 1 Axes>"
      ]
     },
     "metadata": {
      "needs_background": "light"
     },
     "output_type": "display_data"
    }
   ],
   "source": [
    "sev_af=a_f[\"se_v\"]\n",
    "sev_cc=c_c[\"se_v\"]\n",
    "sev_mi=m_i[\"se_v\"]\n",
    "\n",
    "\n",
    "sn.distplot(a=sev_af,bins=200,color='#FF8427',kde=False,label=\"Atrial Fibrillation\")\n",
    "sn.distplot(a=sev_cc,bins=200,color='#04A777',kde=False,label=\"Congestive heart f\")\n",
    "sn.distplot(a=sev_mi,bins=200,color='#083D77',kde=False,label=\"Myocardial infarction\")\n",
    "\n",
    "plt.title(\"Sample entrophy (variance)\")\n",
    "plt.legend()\n",
    "plt.xlim(0, 0.4)"
   ]
  },
  {
   "cell_type": "code",
   "execution_count": 74,
   "metadata": {},
   "outputs": [
    {
     "data": {
      "text/plain": [
       "<matplotlib.legend.Legend at 0x21fe53b8070>"
      ]
     },
     "execution_count": 74,
     "metadata": {},
     "output_type": "execute_result"
    },
    {
     "data": {
      "image/png": "[encoded data removed]",
      "text/plain": [
       "<Figure size 432x288 with 1 Axes>"
      ]
     },
     "metadata": {
      "needs_background": "light"
     },
     "output_type": "display_data"
    }
   ],
   "source": [
    "aem_af=a_f[\"ae_m\"]\n",
    "aem_cc=c_c[\"ae_m\"]\n",
    "aem_mi=m_i[\"ae_m\"]\n",
    "\n",
    "#myColors = ['#083D77','#f4633a','#ffd757']\n",
    "\n",
    "sn.distplot(a=aem_af,bins=200,color='#FF8427',kde=False,label=\"Atrial Fibrillation\")\n",
    "sn.distplot(a=aem_cc,bins=200,color='#04A777',kde=False,label=\"Congestive heart f\")\n",
    "sn.distplot(a=aem_mi,bins=200,color='#083D77',kde=False,label=\"Myocardial infarction\")\n",
    "\n",
    "plt.title(\"Approximate entrophy (mean)\")\n",
    "plt.legend()\n"
   ]
  },
  {
   "cell_type": "code",
   "execution_count": 93,
   "metadata": {},
   "outputs": [
    {
     "data": {
      "text/plain": [
       "(0.0, 0.2)"
      ]
     },
     "execution_count": 93,
     "metadata": {},
     "output_type": "execute_result"
    },
    {
     "data": {
      "image/png": "[encoded data removed]",
      "text/plain": [
       "<Figure size 432x288 with 1 Axes>"
      ]
     },
     "metadata": {
      "needs_background": "light"
     },
     "output_type": "display_data"
    }
   ],
   "source": [
    "aev_af=a_f[\"ae_v\"]\n",
    "aev_cc=c_c[\"ae_v\"]\n",
    "aev_mi=m_i[\"ae_v\"]\n",
    "\n",
    "#myColors = ['#083D77','#f4633a','#ffd757']\n",
    "\n",
    "sn.distplot(a=aev_af,bins=200,color='#FF8427',kde=False,label=\"Atrial Fibrillation\")\n",
    "sn.distplot(a=aev_cc,bins=200,color='#04A777',kde=False,label=\"Congestive heart f\")\n",
    "sn.distplot(a=aev_mi,bins=200,color='#083D77',kde=False,label=\"Myocardial infarction\")\n",
    "\n",
    "plt.title(\"Approximate entrophy (variance)\")\n",
    "plt.legend()\n",
    "plt.xlim(0, 0.2)"
   ]
  },
  {
   "cell_type": "code",
   "execution_count": 85,
   "metadata": {},
   "outputs": [
    {
     "data": {
      "text/plain": [
       "<matplotlib.legend.Legend at 0x21febc10460>"
      ]
     },
     "execution_count": 85,
     "metadata": {},
     "output_type": "execute_result"
    },
    {
     "data": {
      "image/png": "[encoded data removed]",
      "text/plain": [
       "<Figure size 432x288 with 1 Axes>"
      ]
     },
     "metadata": {
      "needs_background": "light"
     },
     "output_type": "display_data"
    }
   ],
   "source": [
    "hfd_af=a_f[\"hfd_m\"]\n",
    "hfd_cc=c_c[\"hfd_m\"]\n",
    "hfd_mi=m_i[\"hfd_m\"]\n",
    "\n",
    "\n",
    "sn.distplot(a=hfd_af,bins=200,color='#FF8427',kde=False,label=\"Atrial Fibrillation\")\n",
    "sn.distplot(a=hfd_cc,bins=200,color='#04A777',kde=False,label=\"Congestive heart f\")\n",
    "sn.distplot(a=hfd_mi,bins=200,color='#083D77',kde=False,label=\"Myocardial infarction\")\n",
    "\n",
    "plt.title(\"Higuchi (mean)\")\n",
    "plt.legend()"
   ]
  },
  {
   "cell_type": "code",
   "execution_count": 95,
   "metadata": {},
   "outputs": [
    {
     "data": {
      "text/plain": [
       "(0.0, 0.015)"
      ]
     },
     "execution_count": 95,
     "metadata": {},
     "output_type": "execute_result"
    },
    {
     "data": {
      "image/png": "[encoded data removed]",
      "text/plain": [
       "<Figure size 432x288 with 1 Axes>"
      ]
     },
     "metadata": {
      "needs_background": "light"
     },
     "output_type": "display_data"
    }
   ],
   "source": [
    "hfdv_af=a_f[\"hfd_v\"]\n",
    "hfdv_cc=c_c[\"hfd_v\"]\n",
    "hfdv_mi=m_i[\"hfd_v\"]\n",
    "\n",
    "\n",
    "sn.distplot(a=hfdv_af,bins=200,color='#FF8427',kde=False,label=\"Atrial Fibrillation\")\n",
    "sn.distplot(a=hfdv_cc,bins=200,color='#04A777',kde=False,label=\"Congestive heart f\")\n",
    "sn.distplot(a=hfdv_mi,bins=200,color='#083D77',kde=False,label=\"Myocardial infarction\")\n",
    "\n",
    "plt.title(\"Higuchi (variance)\")\n",
    "plt.legend()\n",
    "plt.xlim(0, 0.015)"
   ]
  },
  {
   "cell_type": "code",
   "execution_count": 84,
   "metadata": {},
   "outputs": [
    {
     "data": {
      "text/plain": [
       "<matplotlib.legend.Legend at 0x21feb5682b0>"
      ]
     },
     "execution_count": 84,
     "metadata": {},
     "output_type": "execute_result"
    },
    {
     "data": {
      "image/png": "[encoded data removed]",
      "text/plain": [
       "<Figure size 432x288 with 1 Axes>"
      ]
     },
     "metadata": {
      "needs_background": "light"
     },
     "output_type": "display_data"
    }
   ],
   "source": [
    "dfa_af=a_f[\"dfa_m\"]\n",
    "dfa_cc=c_c[\"dfa_m\"]\n",
    "dfa_mi=m_i[\"dfa_m\"]\n",
    "\n",
    "\n",
    "sn.distplot(a=dfa_af,bins=200,color='#FF8427',kde=False,label=\"Atrial Fibrillation\")\n",
    "sn.distplot(a=dfa_cc,bins=200,color='#04A777',kde=False,label=\"Congestive heart f\")\n",
    "sn.distplot(a=dfa_mi,bins=200,color='#083D77',kde=False,label=\"Myocardial infarction\")\n",
    "\n",
    "plt.title(\"DFA (mean)\")\n",
    "plt.legend()"
   ]
  },
  {
   "cell_type": "code",
   "execution_count": 96,
   "metadata": {},
   "outputs": [
    {
     "data": {
      "text/plain": [
       "(0.0, 0.04)"
      ]
     },
     "execution_count": 96,
     "metadata": {},
     "output_type": "execute_result"
    },
    {
     "data": {
      "image/png": "[encoded data removed]",
      "text/plain": [
       "<Figure size 432x288 with 1 Axes>"
      ]
     },
     "metadata": {
      "needs_background": "light"
     },
     "output_type": "display_data"
    }
   ],
   "source": [
    "dfav_af=a_f[\"dfa_v\"]\n",
    "dfav_cc=c_c[\"dfa_v\"]\n",
    "dfav_mi=m_i[\"dfa_v\"]\n",
    "\n",
    "\n",
    "sn.distplot(a=dfav_af,bins=200,color='#FF8427',kde=False,label=\"Atrial Fibrillation\")\n",
    "sn.distplot(a=dfav_cc,bins=200,color='#04A777',kde=False,label=\"Congestive heart f\")\n",
    "sn.distplot(a=dfav_mi,bins=200,color='#083D77',kde=False,label=\"Myocardial infarction\")\n",
    "\n",
    "plt.title(\"DFA (variance)\")\n",
    "plt.legend()\n",
    "plt.xlim(0, 0.04)"
   ]
  },
  {
   "cell_type": "code",
   "execution_count": 87,
   "metadata": {},
   "outputs": [
    {
     "data": {
      "text/plain": [
       "<matplotlib.legend.Legend at 0x21fed28b550>"
      ]
     },
     "execution_count": 87,
     "metadata": {},
     "output_type": "execute_result"
    },
    {
     "data": {
      "image/png": "[encoded data removed]",
      "text/plain": [
       "<Figure size 432x288 with 1 Axes>"
      ]
     },
     "metadata": {
      "needs_background": "light"
     },
     "output_type": "display_data"
    }
   ],
   "source": [
    "psd_af=a_f[\"psd_m\"]\n",
    "psd_cc=c_c[\"psd_m\"]\n",
    "psd_mi=m_i[\"psd_m\"]\n",
    "\n",
    "\n",
    "sn.distplot(a=psd_af,bins=200,color='#FF8427',kde=False,label=\"Atrial Fibrillation\")\n",
    "sn.distplot(a=psd_cc,bins=200,color='#04A777',kde=False,label=\"Congestive heart f\")\n",
    "sn.distplot(a=psd_mi,bins=200,color='#083D77',kde=False,label=\"Myocardial infarction\")\n",
    "\n",
    "plt.title(\"PSD (mean) \")\n",
    "plt.legend()"
   ]
  },
  {
   "cell_type": "code",
   "execution_count": 90,
   "metadata": {},
   "outputs": [
    {
     "data": {
      "text/plain": [
       "(0.0, 0.2)"
      ]
     },
     "execution_count": 90,
     "metadata": {},
     "output_type": "execute_result"
    },
    {
     "data": {
      "image/png": "[encoded data removed]",
      "text/plain": [
       "<Figure size 432x288 with 1 Axes>"
      ]
     },
     "metadata": {
      "needs_background": "light"
     },
     "output_type": "display_data"
    }
   ],
   "source": [
    "psdv_af=a_f[\"psd_v\"]\n",
    "psdv_cc=c_c[\"psd_v\"]\n",
    "psdv_mi=m_i[\"psd_v\"]\n",
    "\n",
    "\n",
    "sn.distplot(a=psdv_af,bins=200,color='#FF8427',kde=False,label=\"Atrial Fibrillation\")\n",
    "sn.distplot(a=psdv_cc,bins=200,color='#04A777',kde=False,label=\"Congestive heart f\")\n",
    "sn.distplot(a=psdv_mi,bins=200,color='#083D77',kde=False,label=\"Myocardial infarction\")\n",
    "\n",
    "plt.title(\"PSD (variance)\")\n",
    "plt.legend()\n",
    "plt.xlim(0, 0.2)"
   ]
  },
  {
   "cell_type": "markdown",
   "metadata": {},
   "source": [
    "<h2>Train and datasets<h2>"
   ]
  },
  {
   "cell_type": "code",
   "execution_count": 268,
   "metadata": {},
   "outputs": [
    {
     "name": "stdout",
     "output_type": "stream",
     "text": [
      "1904\n",
      "1904\n"
     ]
    }
   ],
   "source": [
    "X_train,X_test,y_train,y_test = train_test_split(X,targets,test_size=0.20,random_state=1)\n",
    "print(len(X_train))\n",
    "print(len(y_train))"
   ]
  },
  {
   "cell_type": "markdown",
   "metadata": {},
   "source": [
    "<h2>Logistic regression function<h2>"
   ]
  },
  {
   "cell_type": "code",
   "execution_count": 269,
   "metadata": {},
   "outputs": [],
   "source": [
    "logistic_regression= LogisticRegression(max_iter=20000)\n",
    "logistic_regression.fit(X_train,y_train)\n",
    "y_pred=logistic_regression.predict(X_test)\n",
    "y_test=np.array(y_test)"
   ]
  },
  {
   "cell_type": "markdown",
   "metadata": {},
   "source": [
    "<h2>Confussion matrix<h2>"
   ]
  },
  {
   "cell_type": "code",
   "execution_count": 270,
   "metadata": {},
   "outputs": [
    {
     "data": {
      "text/plain": [
       "<matplotlib.axes._subplots.AxesSubplot at 0x21fef3a95e0>"
      ]
     },
     "execution_count": 270,
     "metadata": {},
     "output_type": "execute_result"
    },
    {
     "data": {
      "image/png": "[encoded data removed]",
      "text/plain": [
       "<Figure size 432x288 with 2 Axes>"
      ]
     },
     "metadata": {
      "needs_background": "light"
     },
     "output_type": "display_data"
    }
   ],
   "source": [
    "confusion_matrix = pd.crosstab(y_test, y_pred, rownames=['Actual'], colnames=['Predicted'])\n",
    "sn.heatmap(confusion_matrix, annot=True)"
   ]
  },
  {
   "cell_type": "markdown",
   "metadata": {},
   "source": [
    "<h2>Accuracy<h2>"
   ]
  },
  {
   "cell_type": "code",
   "execution_count": 271,
   "metadata": {},
   "outputs": [
    {
     "name": "stdout",
     "output_type": "stream",
     "text": [
      "Accuracy:  0.5966386554621849\n"
     ]
    }
   ],
   "source": [
    "print('Accuracy: ',metrics.accuracy_score(y_test, y_pred))\n"
   ]
  },
  {
   "cell_type": "markdown",
   "metadata": {},
   "source": [
    "<h2>K nearest neightbors<h2>"
   ]
  },
  {
   "cell_type": "code",
   "execution_count": 272,
   "metadata": {},
   "outputs": [
    {
     "name": "stdout",
     "output_type": "stream",
     "text": [
      "Accuracy of K-NN classifier on training set: 0.82\n",
      "Accuracy of K-NN classifier on test set: 0.66\n"
     ]
    }
   ],
   "source": [
    "from sklearn.neighbors import NearestNeighbors\n",
    "from sklearn.neighbors import kneighbors_graph\n",
    "from sklearn.preprocessing import MinMaxScaler\n",
    "from sklearn.neighbors import KNeighborsClassifier\n",
    "\n",
    "scaler = MinMaxScaler()\n",
    "X_train_scaled = scaler.fit_transform(X_train)\n",
    "X_test_scaled = scaler.transform(X_test)\n",
    "\n",
    "knn = KNeighborsClassifier(n_neighbors = 3)\n",
    "knn.fit(X_train_scaled, y_train)\n",
    "\n",
    "#Checking performance on the training set\n",
    "print('Accuracy of K-NN classifier on training set: {:.2f}'\n",
    "     .format(knn.score(X_train_scaled, y_train)))\n",
    "#Checking performance on the test set\n",
    "print('Accuracy of K-NN classifier on test set: {:.2f}'\n",
    "     .format(knn.score(X_test_scaled, y_test)))\n",
    "\n"
   ]
  },
  {
   "cell_type": "markdown",
   "metadata": {},
   "source": [
    "<h2>Gaussian Naive Bayes<h2>"
   ]
  },
  {
   "cell_type": "code",
   "execution_count": 278,
   "metadata": {},
   "outputs": [
    {
     "name": "stdout",
     "output_type": "stream",
     "text": [
      "Number of mislabeled points out of a total 476 points : 184\n",
      "Accuracy :  0.6134453781512605\n"
     ]
    }
   ],
   "source": [
    "from sklearn.naive_bayes import GaussianNB\n",
    "\n",
    "gnb = GaussianNB()\n",
    "y_pred = gnb.fit(X_train, y_train).predict(X_test)\n",
    "print(\"Number of mislabeled points out of a total %d points : %d\" \n",
    "      % (X_test.shape[0], (y_test != y_pred).sum()))\n",
    "acc=1-(y_test != y_pred).sum()/X_test.shape[0]\n",
    "print(\"Accuracy : \", acc)"
   ]
  },
  {
   "cell_type": "markdown",
   "metadata": {},
   "source": [
    "<h2>Complement Naive Bayes<h2>"
   ]
  },
  {
   "cell_type": "code",
   "execution_count": 279,
   "metadata": {},
   "outputs": [
    {
     "name": "stdout",
     "output_type": "stream",
     "text": [
      "Number of mislabeled points out of a total 476 points : 198\n",
      "Accuracy :  0.5840336134453781\n"
     ]
    }
   ],
   "source": [
    "from sklearn.naive_bayes import ComplementNB\n",
    "\n",
    "cnb = ComplementNB()\n",
    "y_pred = cnb.fit(X_train, y_train).predict(X_test)\n",
    "print(\"Number of mislabeled points out of a total %d points : %d\" \n",
    "      % (X_test.shape[0], (y_test != y_pred).sum()))\n",
    "acc=1-(y_test != y_pred).sum()/X_test.shape[0]\n",
    "print(\"Accuracy : \", acc)"
   ]
  },
  {
   "cell_type": "markdown",
   "metadata": {},
   "source": [
    "<h2>Multinomial Naive Bayes<h2>"
   ]
  },
  {
   "cell_type": "code",
   "execution_count": 280,
   "metadata": {},
   "outputs": [
    {
     "name": "stdout",
     "output_type": "stream",
     "text": [
      "Number of mislabeled points out of a total 476 points : 198\n",
      "Accuracy :  0.5840336134453781\n"
     ]
    }
   ],
   "source": [
    "from sklearn.naive_bayes import MultinomialNB\n",
    "\n",
    "mnb = MultinomialNB()\n",
    "y_pred = mnb.fit(X_train, y_train).predict(X_test)\n",
    "print(\"Number of mislabeled points out of a total %d points : %d\" \n",
    "      % (X_test.shape[0], (y_test != y_pred).sum()))\n",
    "acc=1-(y_test != y_pred).sum()/X_test.shape[0]\n",
    "print(\"Accuracy : \", acc)"
   ]
  },
  {
   "cell_type": "markdown",
   "metadata": {},
   "source": [
    "<h2>Bernoulli Naive Bayes<h2>"
   ]
  },
  {
   "cell_type": "code",
   "execution_count": 282,
   "metadata": {},
   "outputs": [
    {
     "name": "stdout",
     "output_type": "stream",
     "text": [
      "Number of mislabeled points out of a total 476 points : 239\n",
      "Accuracy :  0.49789915966386555\n"
     ]
    }
   ],
   "source": [
    "from sklearn.naive_bayes import BernoulliNB\n",
    "\n",
    "bnb = BernoulliNB()\n",
    "y_pred = bnb.fit(X_train, y_train).predict(X_test)\n",
    "print(\"Number of mislabeled points out of a total %d points : %d\" \n",
    "      % (X_test.shape[0], (y_test != y_pred).sum()))\n",
    "acc=1-(y_test != y_pred).sum()/X_test.shape[0]\n",
    "print(\"Accuracy : \", acc)"
   ]
  },
  {
   "cell_type": "code",
   "execution_count": null,
   "metadata": {},
   "outputs": [],
   "source": []
  }
 ],
 "metadata": {
  "kernelspec": {
   "display_name": "Python 3",
   "language": "python",
   "name": "python3"
  },
  "language_info": {
   "codemirror_mode": {
    "name": "ipython",
    "version": 3
   },
   "file_extension": ".py",
   "mimetype": "text/x-python",
   "name": "python",
   "nbconvert_exporter": "python",
   "pygments_lexer": "ipython3",
   "version": "3.8.3"
  }
 },
 "nbformat": 4,
 "nbformat_minor": 4
}
