{
 "cells": [
  {
   "cell_type": "code",
   "execution_count": 1,
   "metadata": {
    "execution": {
     "iopub.execute_input": "2020-12-18T00:26:39.295822Z",
     "iopub.status.busy": "2020-12-18T00:26:39.294812Z",
     "iopub.status.idle": "2020-12-18T00:26:50.377808Z",
     "shell.execute_reply": "2020-12-18T00:26:50.376808Z",
     "shell.execute_reply.started": "2020-12-18T00:26:39.295822Z"
    }
   },
   "outputs": [],
   "source": [
    "from TT_utilities import Case, NL_METHODS\n",
    "from scipy.stats import stats\n",
    "from pathlib import Path\n",
    "import pandas as pd\n",
    "import numpy as np\n",
    "import re"
   ]
  },
  {
   "cell_type": "code",
   "execution_count": null,
   "metadata": {},
   "outputs": [],
   "source": [
    "RECORD_DIRS = list(Path(\"./Data\").glob(\"*p00*\"))\n",
    "CASES = list()\n",
    "for record_dir in RECORD_DIRS:\n",
    "    record_name = re.search(\"[0-9]{6}\", str(record_dir))[0]\n",
    "    c = Case(record_dir.joinpath(record_name))\n",
    "    c.process()\n",
    "    CASES.append(c)"
   ]
  },
  {
   "cell_type": "code",
   "execution_count": 2,
   "metadata": {
    "execution": {
     "iopub.execute_input": "2020-12-18T00:28:28.146765Z",
     "iopub.status.busy": "2020-12-18T00:28:28.146765Z",
     "iopub.status.idle": "2020-12-18T00:28:28.173748Z",
     "shell.execute_reply": "2020-12-18T00:28:28.172752Z",
     "shell.execute_reply.started": "2020-12-18T00:28:28.146765Z"
    }
   },
   "outputs": [
    {
     "name": "stdout",
     "output_type": "stream",
     "text": [
      "['case', 'record', 'cond', 'ae_m', 'ae_v', 'se_m', 'se_v', 'hfd_m', 'hfd_v', 'dfa_m', 'dfa_v', 'psd_m', 'psd_v']\n"
     ]
    },
    {
     "data": {
      "text/html": [
       "<div>\n",
       "<style scoped>\n",
       "    .dataframe tbody tr th:only-of-type {\n",
       "        vertical-align: middle;\n",
       "    }\n",
       "\n",
       "    .dataframe tbody tr th {\n",
       "        vertical-align: top;\n",
       "    }\n",
       "\n",
       "    .dataframe thead th {\n",
       "        text-align: right;\n",
       "    }\n",
       "</style>\n",
       "<table border=\"1\" class=\"dataframe\">\n",
       "  <thead>\n",
       "    <tr style=\"text-align: right;\">\n",
       "      <th></th>\n",
       "      <th>case</th>\n",
       "      <th>record</th>\n",
       "      <th>cond</th>\n",
       "      <th>ae_m</th>\n",
       "      <th>ae_v</th>\n",
       "      <th>se_m</th>\n",
       "      <th>se_v</th>\n",
       "      <th>hfd_m</th>\n",
       "      <th>hfd_v</th>\n",
       "      <th>dfa_m</th>\n",
       "      <th>dfa_v</th>\n",
       "      <th>psd_m</th>\n",
       "      <th>psd_v</th>\n",
       "    </tr>\n",
       "  </thead>\n",
       "  <tbody>\n",
       "  </tbody>\n",
       "</table>\n",
       "</div>"
      ],
      "text/plain": [
       "Empty DataFrame\n",
       "Columns: [case, record, cond, ae_m, ae_v, se_m, se_v, hfd_m, hfd_v, dfa_m, dfa_v, psd_m, psd_v]\n",
       "Index: []"
      ]
     },
     "execution_count": 2,
     "metadata": {},
     "output_type": "execute_result"
    }
   ],
   "source": [
    "# for mean (_m) and variance (_v)\n",
    "columns = [\"case\", \"record\", \"cond\"]\n",
    "for m in NL_METHODS:\n",
    "    columns.extend([m[\"tag\"]+\"_m\", m[\"tag\"]+\"_v\"])\n",
    "print(columns)\n",
    "\n",
    "CSV_DATA = pd.DataFrame(columns=columns)\n",
    "CSV_DATA"
   ]
  },
  {
   "cell_type": "code",
   "execution_count": null,
   "metadata": {},
   "outputs": [],
   "source": [
    "for n, c in enumerate(CASES):\n",
    "    for r in c:\n",
    "        vals = list()\n",
    "        for k, v in r.N_LINEAR.items():\n",
    "            s = stats.describe(v)\n",
    "            vals.extend([s[2], s[3]])\n",
    "        row = [c._case_name, r.name, c.pathology] + vals\n",
    "        CSV_DATA = CSV_DATA.append(pd.Series(data=row, index=columns), ignore_index=True)\n",
    "CSV_DATA"
   ]
  }
 ],
 "metadata": {
  "kernelspec": {
   "display_name": "Python 3",
   "language": "python",
   "name": "python3"
  },
  "language_info": {
   "codemirror_mode": {
    "name": "ipython",
    "version": 3
   },
   "file_extension": ".py",
   "mimetype": "text/x-python",
   "name": "python",
   "nbconvert_exporter": "python",
   "pygments_lexer": "ipython3",
   "version": "3.8.5"
  }
 },
 "nbformat": 4,
 "nbformat_minor": 4
}
