{
 "cells": [
  {
   "cell_type": "code",
   "execution_count": 1,
   "metadata": {
    "execution": {
     "iopub.execute_input": "2020-12-04T19:06:15.524612Z",
     "iopub.status.busy": "2020-12-04T19:06:15.524612Z",
     "iopub.status.idle": "2020-12-04T19:06:22.616708Z",
     "shell.execute_reply": "2020-12-04T19:06:22.615735Z",
     "shell.execute_reply.started": "2020-12-04T19:06:15.524612Z"
    }
   },
   "outputs": [],
   "source": [
    "import pandas as pd\n",
    "import numpy as np\n",
    "import ast\n",
    "from matplotlib import pyplot as plt\n",
    "from matplotlib import gridspec\n",
    "from scipy.stats import stats\n",
    "import json\n",
    "import os\n",
    "from mpl_toolkits.mplot3d import Axes3D\n",
    "from entropy import *\n",
    "import entropy"
   ]
  },
  {
   "cell_type": "markdown",
   "metadata": {},
   "source": [
    "## Importing data from Data_Jsons\n",
    "\n",
    "Se genera un dataframe con todos los datos válidos de todas las bases de datos"
   ]
  },
  {
   "cell_type": "code",
   "execution_count": 2,
   "metadata": {
    "execution": {
     "iopub.execute_input": "2020-11-27T19:45:04.645388Z",
     "iopub.status.busy": "2020-11-27T19:45:04.645388Z",
     "iopub.status.idle": "2020-11-27T19:45:06.907427Z",
     "shell.execute_reply": "2020-11-27T19:45:06.907427Z",
     "shell.execute_reply.started": "2020-11-27T19:45:04.645388Z"
    },
    "tags": []
   },
   "outputs": [
    {
     "name": "stdout",
     "output_type": "stream",
     "text": [
      "afdb-1.0.0.physionet.org.json has 22/25 approved cases\n",
      "chfdb-1.0.0.physionet.org.json has 15/15 approved cases\n",
      "ltafdb-1.0.0.physionet.org.json has 52/52 approved cases\n",
      "mitdb-1.0.0.physionet.org.json has 48/48 approved cases\n",
      "nn-cases-healthy-control.json has 17/17 approved cases\n",
      "normal-sinus-rhythm-rr-interval-database-1.0.0.json has 54/54 approved cases\n",
      "ptbdb-1.0.0.physionet.org.json has 59/59 approved cases\n"
     ]
    }
   ],
   "source": [
    "data = list()\n",
    "for data_file in os.listdir(\"./Data_Jsons\"):\n",
    "    with open(\"./Data_Jsons/\"+data_file) as file:\n",
    "        mixed = json.load(file)\n",
    "        appr = [reg for reg in mixed if reg[\"approved\"]]\n",
    "        data.extend(appr)\n",
    "        print(f\"{data_file} has {len(appr)}/{len(mixed)} approved cases\")\n",
    "data = pd.DataFrame(data)\n",
    "data[\"rr\"] = data.apply(lambda case: np.array(case[\"rr\"])/case[\"fs\"], axis=1)\n",
    "data[\"rr\"] = data[\"rr\"].apply(lambda signal: signal[np.where(signal < 2)])\n",
    "data[\"length\"] = data[\"rr\"].apply(lambda signal: len(signal))"
   ]
  },
  {
   "cell_type": "code",
   "execution_count": 3,
   "metadata": {
    "execution": {
     "iopub.execute_input": "2020-11-27T19:45:06.909380Z",
     "iopub.status.busy": "2020-11-27T19:45:06.909380Z",
     "iopub.status.idle": "2020-11-27T19:45:06.938419Z",
     "shell.execute_reply": "2020-11-27T19:45:06.938419Z",
     "shell.execute_reply.started": "2020-11-27T19:45:06.909380Z"
    }
   },
   "outputs": [
    {
     "name": "stdout",
     "output_type": "stream",
     "text": [
      "\n",
      "AF CASES:15\n",
      "CHF CASES:14\n",
      "HC CASES:15\n",
      "AR CASES:15\n",
      "MI CASES:0\n"
     ]
    }
   ],
   "source": [
    "num_cases = 15\n",
    "AF_CASES = data[(data[\"conditon\"] == \"AF\") & (data[\"length\"] > 1000)][:num_cases]  # AF - Atrial Fibrilation\n",
    "CHF_CASES = data[(data[\"conditon\"] == \"CHF\") & (data[\"length\"] > 1000)][:num_cases]  # CHF - Congestive Heart Failure\n",
    "HC_CASES = data[(data[\"conditon\"] == \"HC\") & (data[\"length\"] > 1000)][:num_cases]  # HC - Healthy Controls\n",
    "AR_CASES = data[(data[\"conditon\"] == \"AR\") & (data[\"length\"] > 1000)][:num_cases]  # AR - Arrhythmia Cases - NO HAY CASOS QUE CUMPLAN \n",
    "MI_CASES = data[(data[\"conditon\"] == \"MI\") & (data[\"length\"] > 1000)][:num_cases]  # MI - Myocardial Infarction - NO HAY CASOS QUE CUMPLAN\n",
    "print(f\"\\nAF CASES:{len(AF_CASES)}\\nCHF CASES:{len(CHF_CASES)}\\nHC CASES:{len(HC_CASES)}\\nAR CASES:{len(AR_CASES)}\\nMI CASES:{len(MI_CASES)}\")"
   ]
  },
  {
   "cell_type": "code",
   "execution_count": 4,
   "metadata": {
    "execution": {
     "iopub.execute_input": "2020-12-04T19:08:13.530258Z",
     "iopub.status.busy": "2020-12-04T19:08:13.529258Z",
     "iopub.status.idle": "2020-12-04T19:08:13.537273Z",
     "shell.execute_reply": "2020-12-04T19:08:13.537273Z",
     "shell.execute_reply.started": "2020-12-04T19:08:13.530258Z"
    }
   },
   "outputs": [
    {
     "name": "stdout",
     "output_type": "stream",
     "text": [
      "[0 1 2 3]\n",
      "[4 5 6 7 8 9]\n",
      "[10 11 12 13]\n"
     ]
    }
   ],
   "source": [
    "m = 0\n",
    "for k in [4, 6, 4]:\n",
    "    v = np.arange(k) + m\n",
    "    print(v)\n",
    "    m = np.max(v) + 1"
   ]
  },
  {
   "cell_type": "markdown",
   "metadata": {
    "execution": {
     "iopub.execute_input": "2020-06-18T19:44:45.575181Z",
     "iopub.status.busy": "2020-06-18T19:44:45.575181Z",
     "iopub.status.idle": "2020-06-18T19:44:45.580196Z",
     "shell.execute_reply": "2020-06-18T19:44:45.580196Z",
     "shell.execute_reply.started": "2020-06-18T19:44:45.575181Z"
    }
   },
   "source": [
    "### Bases con Momentos agregados"
   ]
  },
  {
   "cell_type": "code",
   "execution_count": 4,
   "metadata": {
    "execution": {
     "iopub.execute_input": "2020-11-27T19:45:06.940390Z",
     "iopub.status.busy": "2020-11-27T19:45:06.939401Z",
     "iopub.status.idle": "2020-11-27T20:02:56.999662Z",
     "shell.execute_reply": "2020-11-27T20:02:56.999662Z",
     "shell.execute_reply.started": "2020-11-27T19:45:06.940390Z"
    }
   },
   "outputs": [],
   "source": [
    "from TT_utilities import add_moments, add_nonlinear\n",
    "\n",
    "AF_CASES = AF_CASES.apply(add_moments, axis=1)\n",
    "CHF_CASES = CHF_CASES.apply(add_moments, axis=1)\n",
    "HC_CASES = HC_CASES.apply(add_moments, axis=1)\n",
    "\n",
    "AF_CASES = AF_CASES.apply(add_nonlinear, axis=1)\n",
    "CHF_CASES = CHF_CASES.apply(add_nonlinear, axis=1)\n",
    "HC_CASES = HC_CASES.apply(add_nonlinear, axis=1)"
   ]
  },
  {
   "cell_type": "code",
   "execution_count": 5,
   "metadata": {
    "execution": {
     "iopub.execute_input": "2020-11-27T20:02:57.000644Z",
     "iopub.status.busy": "2020-11-27T20:02:57.000644Z",
     "iopub.status.idle": "2020-11-27T20:02:57.004619Z",
     "shell.execute_reply": "2020-11-27T20:02:57.004619Z",
     "shell.execute_reply.started": "2020-11-27T20:02:57.000644Z"
    }
   },
   "outputs": [
    {
     "name": "stdout",
     "output_type": "stream",
     "text": [
      "database - record - rr - comments - fs - approved - conditon - length - M1 - M2 - M3 - M4 - CV - AppEn - SampEn - HFD - DFA - SD_ratio\n",
      "database - record - rr - comments - fs - approved - conditon - length - M1 - M2 - M3 - M4 - CV - AppEn - SampEn - HFD - DFA - SD_ratio\n",
      "database - record - rr - comments - fs - approved - conditon - length - M1 - M2 - M3 - M4 - CV - AppEn - SampEn - HFD - DFA - SD_ratio\n"
     ]
    }
   ],
   "source": [
    "print(\" - \".join(AF_CASES.columns))\n",
    "print(\" - \".join(CHF_CASES.columns))\n",
    "print(\" - \".join(HC_CASES.columns))"
   ]
  },
  {
   "cell_type": "code",
   "execution_count": 9,
   "metadata": {
    "execution": {
     "iopub.execute_input": "2020-11-27T20:06:44.817330Z",
     "iopub.status.busy": "2020-11-27T20:06:44.817330Z",
     "iopub.status.idle": "2020-11-27T20:06:44.857329Z",
     "shell.execute_reply": "2020-11-27T20:06:44.856344Z",
     "shell.execute_reply.started": "2020-11-27T20:06:44.817330Z"
    }
   },
   "outputs": [
    {
     "ename": "KeyError",
     "evalue": "0",
     "output_type": "error",
     "traceback": [
      "\u001b[1;31m---------------------------------------------------------------------------\u001b[0m",
      "\u001b[1;31mKeyError\u001b[0m                                  Traceback (most recent call last)",
      "\u001b[1;32m~\\anaconda3\\envs\\DataAnalyst\\lib\\site-packages\\pandas\\core\\indexes\\base.py\u001b[0m in \u001b[0;36mget_loc\u001b[1;34m(self, key, method, tolerance)\u001b[0m\n\u001b[0;32m   2890\u001b[0m             \u001b[1;32mtry\u001b[0m\u001b[1;33m:\u001b[0m\u001b[1;33m\u001b[0m\u001b[1;33m\u001b[0m\u001b[0m\n\u001b[1;32m-> 2891\u001b[1;33m                 \u001b[1;32mreturn\u001b[0m \u001b[0mself\u001b[0m\u001b[1;33m.\u001b[0m\u001b[0m_engine\u001b[0m\u001b[1;33m.\u001b[0m\u001b[0mget_loc\u001b[0m\u001b[1;33m(\u001b[0m\u001b[0mcasted_key\u001b[0m\u001b[1;33m)\u001b[0m\u001b[1;33m\u001b[0m\u001b[1;33m\u001b[0m\u001b[0m\n\u001b[0m\u001b[0;32m   2892\u001b[0m             \u001b[1;32mexcept\u001b[0m \u001b[0mKeyError\u001b[0m \u001b[1;32mas\u001b[0m \u001b[0merr\u001b[0m\u001b[1;33m:\u001b[0m\u001b[1;33m\u001b[0m\u001b[1;33m\u001b[0m\u001b[0m\n",
      "\u001b[1;32mpandas\\_libs\\index.pyx\u001b[0m in \u001b[0;36mpandas._libs.index.IndexEngine.get_loc\u001b[1;34m()\u001b[0m\n",
      "\u001b[1;32mpandas\\_libs\\index.pyx\u001b[0m in \u001b[0;36mpandas._libs.index.IndexEngine.get_loc\u001b[1;34m()\u001b[0m\n",
      "\u001b[1;32mpandas\\_libs\\hashtable_class_helper.pxi\u001b[0m in \u001b[0;36mpandas._libs.hashtable.Int64HashTable.get_item\u001b[1;34m()\u001b[0m\n",
      "\u001b[1;32mpandas\\_libs\\hashtable_class_helper.pxi\u001b[0m in \u001b[0;36mpandas._libs.hashtable.Int64HashTable.get_item\u001b[1;34m()\u001b[0m\n",
      "\u001b[1;31mKeyError\u001b[0m: 0",
      "\nThe above exception was the direct cause of the following exception:\n",
      "\u001b[1;31mKeyError\u001b[0m                                  Traceback (most recent call last)",
      "\u001b[1;32m<ipython-input-9-15e9c4c1f402>\u001b[0m in \u001b[0;36m<module>\u001b[1;34m\u001b[0m\n\u001b[1;32m----> 1\u001b[1;33m \u001b[0mHC_CASES\u001b[0m\u001b[1;33m[\u001b[0m\u001b[1;34m\"rr\"\u001b[0m\u001b[1;33m]\u001b[0m\u001b[1;33m[\u001b[0m\u001b[1;36m0\u001b[0m\u001b[1;33m]\u001b[0m\u001b[1;33m\u001b[0m\u001b[1;33m\u001b[0m\u001b[0m\n\u001b[0m",
      "\u001b[1;32m~\\anaconda3\\envs\\DataAnalyst\\lib\\site-packages\\pandas\\core\\series.py\u001b[0m in \u001b[0;36m__getitem__\u001b[1;34m(self, key)\u001b[0m\n\u001b[0;32m    880\u001b[0m \u001b[1;33m\u001b[0m\u001b[0m\n\u001b[0;32m    881\u001b[0m         \u001b[1;32melif\u001b[0m \u001b[0mkey_is_scalar\u001b[0m\u001b[1;33m:\u001b[0m\u001b[1;33m\u001b[0m\u001b[1;33m\u001b[0m\u001b[0m\n\u001b[1;32m--> 882\u001b[1;33m             \u001b[1;32mreturn\u001b[0m \u001b[0mself\u001b[0m\u001b[1;33m.\u001b[0m\u001b[0m_get_value\u001b[0m\u001b[1;33m(\u001b[0m\u001b[0mkey\u001b[0m\u001b[1;33m)\u001b[0m\u001b[1;33m\u001b[0m\u001b[1;33m\u001b[0m\u001b[0m\n\u001b[0m\u001b[0;32m    883\u001b[0m \u001b[1;33m\u001b[0m\u001b[0m\n\u001b[0;32m    884\u001b[0m         if (\n",
      "\u001b[1;32m~\\anaconda3\\envs\\DataAnalyst\\lib\\site-packages\\pandas\\core\\series.py\u001b[0m in \u001b[0;36m_get_value\u001b[1;34m(self, label, takeable)\u001b[0m\n\u001b[0;32m    989\u001b[0m \u001b[1;33m\u001b[0m\u001b[0m\n\u001b[0;32m    990\u001b[0m         \u001b[1;31m# Similar to Index.get_value, but we do not fall back to positional\u001b[0m\u001b[1;33m\u001b[0m\u001b[1;33m\u001b[0m\u001b[1;33m\u001b[0m\u001b[0m\n\u001b[1;32m--> 991\u001b[1;33m         \u001b[0mloc\u001b[0m \u001b[1;33m=\u001b[0m \u001b[0mself\u001b[0m\u001b[1;33m.\u001b[0m\u001b[0mindex\u001b[0m\u001b[1;33m.\u001b[0m\u001b[0mget_loc\u001b[0m\u001b[1;33m(\u001b[0m\u001b[0mlabel\u001b[0m\u001b[1;33m)\u001b[0m\u001b[1;33m\u001b[0m\u001b[1;33m\u001b[0m\u001b[0m\n\u001b[0m\u001b[0;32m    992\u001b[0m         \u001b[1;32mreturn\u001b[0m \u001b[0mself\u001b[0m\u001b[1;33m.\u001b[0m\u001b[0mindex\u001b[0m\u001b[1;33m.\u001b[0m\u001b[0m_get_values_for_loc\u001b[0m\u001b[1;33m(\u001b[0m\u001b[0mself\u001b[0m\u001b[1;33m,\u001b[0m \u001b[0mloc\u001b[0m\u001b[1;33m,\u001b[0m \u001b[0mlabel\u001b[0m\u001b[1;33m)\u001b[0m\u001b[1;33m\u001b[0m\u001b[1;33m\u001b[0m\u001b[0m\n\u001b[0;32m    993\u001b[0m \u001b[1;33m\u001b[0m\u001b[0m\n",
      "\u001b[1;32m~\\anaconda3\\envs\\DataAnalyst\\lib\\site-packages\\pandas\\core\\indexes\\base.py\u001b[0m in \u001b[0;36mget_loc\u001b[1;34m(self, key, method, tolerance)\u001b[0m\n\u001b[0;32m   2891\u001b[0m                 \u001b[1;32mreturn\u001b[0m \u001b[0mself\u001b[0m\u001b[1;33m.\u001b[0m\u001b[0m_engine\u001b[0m\u001b[1;33m.\u001b[0m\u001b[0mget_loc\u001b[0m\u001b[1;33m(\u001b[0m\u001b[0mcasted_key\u001b[0m\u001b[1;33m)\u001b[0m\u001b[1;33m\u001b[0m\u001b[1;33m\u001b[0m\u001b[0m\n\u001b[0;32m   2892\u001b[0m             \u001b[1;32mexcept\u001b[0m \u001b[0mKeyError\u001b[0m \u001b[1;32mas\u001b[0m \u001b[0merr\u001b[0m\u001b[1;33m:\u001b[0m\u001b[1;33m\u001b[0m\u001b[1;33m\u001b[0m\u001b[0m\n\u001b[1;32m-> 2893\u001b[1;33m                 \u001b[1;32mraise\u001b[0m \u001b[0mKeyError\u001b[0m\u001b[1;33m(\u001b[0m\u001b[0mkey\u001b[0m\u001b[1;33m)\u001b[0m \u001b[1;32mfrom\u001b[0m \u001b[0merr\u001b[0m\u001b[1;33m\u001b[0m\u001b[1;33m\u001b[0m\u001b[0m\n\u001b[0m\u001b[0;32m   2894\u001b[0m \u001b[1;33m\u001b[0m\u001b[0m\n\u001b[0;32m   2895\u001b[0m         \u001b[1;32mif\u001b[0m \u001b[0mtolerance\u001b[0m \u001b[1;32mis\u001b[0m \u001b[1;32mnot\u001b[0m \u001b[1;32mNone\u001b[0m\u001b[1;33m:\u001b[0m\u001b[1;33m\u001b[0m\u001b[1;33m\u001b[0m\u001b[0m\n",
      "\u001b[1;31mKeyError\u001b[0m: 0"
     ]
    }
   ],
   "source": []
  },
  {
   "cell_type": "code",
   "execution_count": 10,
   "metadata": {
    "execution": {
     "iopub.execute_input": "2020-11-27T20:07:09.708190Z",
     "iopub.status.busy": "2020-11-27T20:07:09.708190Z",
     "iopub.status.idle": "2020-11-27T20:07:10.522179Z",
     "shell.execute_reply": "2020-11-27T20:07:10.521178Z",
     "shell.execute_reply.started": "2020-11-27T20:07:09.708190Z"
    }
   },
   "outputs": [
    {
     "ename": "AttributeError",
     "evalue": "module 'matplotlib.pyplot' has no attribute 'patches'",
     "output_type": "error",
     "traceback": [
      "\u001b[1;31m---------------------------------------------------------------------------\u001b[0m",
      "\u001b[1;31mAttributeError\u001b[0m                            Traceback (most recent call last)",
      "\u001b[1;32m<ipython-input-10-509f4eb6729d>\u001b[0m in \u001b[0;36m<module>\u001b[1;34m\u001b[0m\n\u001b[0;32m      3\u001b[0m \u001b[1;33m\u001b[0m\u001b[0m\n\u001b[0;32m      4\u001b[0m \u001b[0mHC_CASES\u001b[0m \u001b[1;33m=\u001b[0m \u001b[0mHC_CASES\u001b[0m\u001b[1;33m.\u001b[0m\u001b[0mreset_index\u001b[0m\u001b[1;33m(\u001b[0m\u001b[1;33m)\u001b[0m\u001b[1;33m\u001b[0m\u001b[1;33m\u001b[0m\u001b[0m\n\u001b[1;32m----> 5\u001b[1;33m \u001b[0mpoincarePlot\u001b[0m\u001b[1;33m(\u001b[0m\u001b[0mHC_CASES\u001b[0m\u001b[1;33m[\u001b[0m\u001b[1;34m\"rr\"\u001b[0m\u001b[1;33m]\u001b[0m\u001b[1;33m[\u001b[0m\u001b[1;36m0\u001b[0m\u001b[1;33m]\u001b[0m\u001b[1;33m,\u001b[0m\u001b[0mshow\u001b[0m\u001b[1;33m=\u001b[0m\u001b[1;32mTrue\u001b[0m\u001b[1;33m,\u001b[0m\u001b[0mellipse\u001b[0m\u001b[1;33m=\u001b[0m\u001b[1;32mTrue\u001b[0m\u001b[1;33m,\u001b[0m\u001b[0mvectors\u001b[0m\u001b[1;33m=\u001b[0m\u001b[1;32mTrue\u001b[0m\u001b[1;33m,\u001b[0m\u001b[0mlegend\u001b[0m\u001b[1;33m=\u001b[0m\u001b[1;32mTrue\u001b[0m\u001b[1;33m)\u001b[0m\u001b[1;33m\u001b[0m\u001b[1;33m\u001b[0m\u001b[0m\n\u001b[0m",
      "\u001b[1;32m~\\Documents\\GitHub\\TTB_2020_2_13\\TT_utilities.py\u001b[0m in \u001b[0;36mpoincarePlot\u001b[1;34m(nni, rpeaks, show, figsize, ellipse, vectors, legend, marker)\u001b[0m\n\u001b[0;32m    253\u001b[0m                 \u001b[0mnn_mean\u001b[0m\u001b[1;33m,\u001b[0m \u001b[0mnn_mean\u001b[0m\u001b[1;33m,\u001b[0m \u001b[1;33m(\u001b[0m\u001b[0msd2\u001b[0m \u001b[1;33m-\u001b[0m \u001b[0mna\u001b[0m\u001b[1;33m)\u001b[0m \u001b[1;33m*\u001b[0m \u001b[0mnp\u001b[0m\u001b[1;33m.\u001b[0m\u001b[0mcos\u001b[0m\u001b[1;33m(\u001b[0m\u001b[0mnp\u001b[0m\u001b[1;33m.\u001b[0m\u001b[0mdeg2rad\u001b[0m\u001b[1;33m(\u001b[0m\u001b[1;36m45\u001b[0m\u001b[1;33m)\u001b[0m\u001b[1;33m)\u001b[0m\u001b[1;33m,\u001b[0m \u001b[1;33m(\u001b[0m\u001b[0msd2\u001b[0m \u001b[1;33m-\u001b[0m \u001b[0mna\u001b[0m\u001b[1;33m)\u001b[0m \u001b[1;33m*\u001b[0m \u001b[0mnp\u001b[0m\u001b[1;33m.\u001b[0m\u001b[0msin\u001b[0m\u001b[1;33m(\u001b[0m\u001b[0mnp\u001b[0m\u001b[1;33m.\u001b[0m\u001b[0mdeg2rad\u001b[0m\u001b[1;33m(\u001b[0m\u001b[1;36m45\u001b[0m\u001b[1;33m)\u001b[0m\u001b[1;33m)\u001b[0m\u001b[1;33m,\u001b[0m\u001b[1;33m\u001b[0m\u001b[1;33m\u001b[0m\u001b[0m\n\u001b[0;32m    254\u001b[0m                 head_width=arrow_head_size, head_length=arrow_head_size, fc='b', ec='b', zorder=4, linewidth=1.5)\n\u001b[1;32m--> 255\u001b[1;33m             \u001b[0ma3\u001b[0m \u001b[1;33m=\u001b[0m \u001b[0mplt\u001b[0m\u001b[1;33m.\u001b[0m\u001b[0mpatches\u001b[0m\u001b[1;33m.\u001b[0m\u001b[0mPatch\u001b[0m\u001b[1;33m(\u001b[0m\u001b[0mfacecolor\u001b[0m\u001b[1;33m=\u001b[0m\u001b[1;34m'white'\u001b[0m\u001b[1;33m,\u001b[0m \u001b[0malpha\u001b[0m\u001b[1;33m=\u001b[0m\u001b[1;36m0.0\u001b[0m\u001b[1;33m)\u001b[0m\u001b[1;33m\u001b[0m\u001b[1;33m\u001b[0m\u001b[0m\n\u001b[0m\u001b[0;32m    256\u001b[0m             \u001b[0ma4\u001b[0m \u001b[1;33m=\u001b[0m \u001b[0mplt\u001b[0m\u001b[1;33m.\u001b[0m\u001b[0mpatches\u001b[0m\u001b[1;33m.\u001b[0m\u001b[0mPatch\u001b[0m\u001b[1;33m(\u001b[0m\u001b[0mfacecolor\u001b[0m\u001b[1;33m=\u001b[0m\u001b[1;34m'white'\u001b[0m\u001b[1;33m,\u001b[0m \u001b[0malpha\u001b[0m\u001b[1;33m=\u001b[0m\u001b[1;36m0.0\u001b[0m\u001b[1;33m)\u001b[0m\u001b[1;33m\u001b[0m\u001b[1;33m\u001b[0m\u001b[0m\n\u001b[0;32m    257\u001b[0m             ax.add_line(plt.lines.Line2D(\n",
      "\u001b[1;31mAttributeError\u001b[0m: module 'matplotlib.pyplot' has no attribute 'patches'"
     ]
    },
    {
     "data": {
      "image/png": "[encoded data removed]",
      "text/plain": [
       "<Figure size 432x432 with 1 Axes>"
      ]
     },
     "metadata": {
      "needs_background": "light"
     },
     "output_type": "display_data"
    }
   ],
   "source": [
    "# POINCARE\n",
    "from TT_utilities import poincarePlot\n",
    "\n",
    "HC_CASES = HC_CASES.reset_index()\n",
    "poincarePlot(HC_CASES[\"rr\"][0],show=True,ellipse=True,vectors=True,legend=True)\n"
   ]
  },
  {
   "cell_type": "markdown",
   "metadata": {},
   "source": [
    "## Plotting RR Moments"
   ]
  },
  {
   "cell_type": "code",
   "execution_count": null,
   "metadata": {
    "execution": {
     "iopub.status.busy": "2020-11-27T20:02:57.669643Z",
     "iopub.status.idle": "2020-11-27T20:02:57.670645Z",
     "shell.execute_reply": "2020-11-27T20:02:57.670645Z"
    }
   },
   "outputs": [],
   "source": [
    "## Ploteo por grupos:\n",
    "titles = [\"Fibrilación Atrial\", \"Insuficiencia Cardíaca Congestiva\", \"Casos Saludables\"]\n",
    "for cases, title in zip([AF_CASES, CHF_CASES, HC_CASES], titles):\n",
    "    figure, axs = plt.subplots(5, 1, figsize=(12, 15))\n",
    "    figure.suptitle(title, y=1.01)\n",
    "\n",
    "    for i in range(len(cases)):\n",
    "    \n",
    "        axs[0].set_title(\"1º Momento - Media\")\n",
    "        axs[0].plot(cases.iloc[i][\"M1\"])\n",
    "        axs[0].autoscale(enable=True, axis='x', tight=True)\n",
    "        \n",
    "        axs[1].set_title(\"2º Momento - Varianza\")\n",
    "        axs[1].plot(cases.iloc[i][\"M2\"])\n",
    "        axs[1].autoscale(enable=True, axis='x', tight=True)\n",
    "        \n",
    "        axs[2].set_title(\"3º Momento - Sesgo\")\n",
    "        axs[2].plot(cases.iloc[i][\"M3\"])\n",
    "        axs[2].autoscale(enable=True, axis='x', tight=True)\n",
    "        \n",
    "        axs[3].set_title(\"4º Momento - Curtosis\")\n",
    "        axs[3].plot(cases.iloc[i][\"M4\"])\n",
    "        axs[3].autoscale(enable=True, axis='x', tight=True)\n",
    "        \n",
    "        axs[4].set_title(\"Coeficiente de Variación\")\n",
    "        axs[4].plot(cases.iloc[i][\"CV\"])\n",
    "        axs[4].autoscale(enable=True, axis='x', tight=True)\n",
    "        \n",
    "    axs[-1].set_xlabel(\"No. de Ventana\")\n",
    "    plt.tight_layout()\n",
    "    plt.show()"
   ]
  },
  {
   "cell_type": "code",
   "execution_count": null,
   "metadata": {
    "execution": {
     "iopub.status.busy": "2020-11-27T20:02:57.671647Z",
     "iopub.status.idle": "2020-11-27T20:02:57.672664Z",
     "shell.execute_reply": "2020-11-27T20:02:57.671647Z"
    }
   },
   "outputs": [],
   "source": [
    "def get_max(DF, col):\n",
    "    return np.max([np.max(DF[col][i]) for i in DF.index if len(DF[col][i]) > 0])\n",
    "\n",
    "def get_min(DF, col):\n",
    "    return np.min([np.min(DF[col][i]) for i in DF.index if len(DF[col][i]) > 0])"
   ]
  },
  {
   "cell_type": "code",
   "execution_count": null,
   "metadata": {
    "execution": {
     "iopub.status.busy": "2020-11-27T20:02:57.673644Z",
     "iopub.status.idle": "2020-11-27T20:02:57.673644Z",
     "shell.execute_reply": "2020-11-27T20:02:57.673644Z"
    }
   },
   "outputs": [],
   "source": [
    "## Ploteo por técnica:\n",
    "conditions = [\"Fibrilación Atrial\", \"Insuficiencia Cardíaca Congestiva\", \"Casos Saludables\"]\n",
    "techniques = [\"Entropía aproximada\", \"Entropía muestral\", \"Analisis de Fluctuación sin Tendencia (DFA)\", \"Coeficiente de Higuchi (HFD)\"]\n",
    "columns = [\"AppEn\", \"SampEn\", \"DFA\", \"HFD\"]\n",
    "cases = [AF_CASES, CHF_CASES, HC_CASES]\n",
    "\n",
    "for idx, title, col in zip([1, 2, 3, 4], techniques, columns):\n",
    "    figure, axs = plt.subplots(3, 1, figsize=(8, 10))\n",
    "    figure.suptitle(title, y=1.01)\n",
    "    \n",
    "    top = np.max([get_max(c, col) for c in cases])\n",
    "    bot = np.min([get_min(c, col) for c in cases])\n",
    "    \n",
    "    axs[0].set_title(conditions[0])\n",
    "    for i in range(len(cases[0])):\n",
    "        axs[0].plot(cases[0].iloc[i][col])\n",
    "    axs[0].autoscale(enable=True, axis='x', tight=True)\n",
    "    axs[0].set_ylim(bottom=bot, top=top)\n",
    "\n",
    "    axs[1].set_title(conditions[1])\n",
    "    for i in range(len(cases[1])):\n",
    "        axs[1].plot(cases[1].iloc[i][col])\n",
    "    axs[1].autoscale(enable=True, axis='x', tight=True)\n",
    "    axs[1].set_ylim(bottom=bot, top=top)\n",
    "\n",
    "    axs[2].set_title(conditions[2])\n",
    "    for i in range(len(cases[2])):\n",
    "        axs[2].plot(cases[2].iloc[i][col])\n",
    "    axs[2].autoscale(enable=True, axis='x', tight=True)\n",
    "    axs[2].set_ylim(bottom=bot, top=top)\n",
    "\n",
    "    axs[-1].set_xlabel(f\"Figura {idx}\")\n",
    "    plt.tight_layout()\n",
    "    plt.show()"
   ]
  },
  {
   "cell_type": "code",
   "execution_count": null,
   "metadata": {},
   "outputs": [],
   "source": []
  },
  {
   "cell_type": "code",
   "execution_count": null,
   "metadata": {
    "execution": {
     "iopub.status.busy": "2020-11-27T20:02:57.674650Z",
     "iopub.status.idle": "2020-11-27T20:02:57.674650Z",
     "shell.execute_reply": "2020-11-27T20:02:57.674650Z"
    }
   },
   "outputs": [],
   "source": [
    "## Ploteo por grupos:\n",
    "titles = [\"Fibrilación Atrial\", \"Insuficiencia Cardíaca Congestiva\", \"Casos Saludables\"]\n",
    "for cases, title in zip([AF_CASES, CHF_CASES, HC_CASES], titles):\n",
    "    figure, axs = plt.subplots(3, 1, figsize=(12, 8))\n",
    "    figure.suptitle(title, y=1.01)\n",
    "    for i in range(len(cases)):\n",
    "        axs[0].set_title(\"Entropía aproximada\")\n",
    "        axs[0].plot(cases.iloc[i][\"AppEn\"])\n",
    "        axs[0].autoscale(enable=True, axis='x', tight=True)\n",
    "        axs[0].set_ylim(bottom=0, top=2)\n",
    "        \n",
    "        axs[1].set_title(\"Entropía muestral\")\n",
    "        axs[1].plot(cases.iloc[i][\"SampEn\"])\n",
    "        axs[1].autoscale(enable=True, axis='x', tight=True)\n",
    "        axs[1].set_ylim(bottom=0, top=3)\n",
    "        \n",
    "        axs[2].set_title(\"DFA\")\n",
    "        axs[2].plot(cases.iloc[i][\"DFA\"])\n",
    "        axs[2].autoscale(enable=True, axis='x', tight=True)\n",
    "        axs[2].set_ylim(bottom=0, top=1.5)\n",
    "    axs[-1].set_xlabel(\"No. de Ventana\")\n",
    "    plt.tight_layout()\n",
    "    plt.show()"
   ]
  },
  {
   "cell_type": "markdown",
   "metadata": {},
   "source": [
    " figure2, axs2 = plt.subplots(3, 1, figsize=(12, 15))\n",
    "    figure2.suptitle(title, y=1.01)\n",
    "    for i in range(len(cases)):\n",
    "        axs[0].set_title(\"Entropía aproximada\")\n",
    "        axs[0].plot(cases.iloc[i][\"AppEn\"])\n",
    "        axs[0].autoscale(enable=True, axis='x', tight=True)\n",
    "        axs[0].set_ylim(bottom=0, top=3)\n",
    "        \n",
    "        axs[1].set_title(\"Entropía muestral\")\n",
    "        axs[1].plot(cases.iloc[i][\"SampEn\"])\n",
    "        axs[1].autoscale(enable=True, axis='x', tight=True)\n",
    "        axs[1].set_ylim(bottom=0, top=3)\n",
    "        \n",
    "        axs[2].set_title(\"DFA\")\n",
    "        axs[2].plot(cases.iloc[i][\"DFA\"])\n",
    "        axs[2].autoscale(enable=True, axis='x', tight=True)\n",
    "        axs[2].set_ylim(bottom=0, top=3)\n",
    "    axs2[-1].set_xlabel(\"No. de Ventana\")"
   ]
  },
  {
   "cell_type": "code",
   "execution_count": null,
   "metadata": {
    "execution": {
     "iopub.status.busy": "2020-11-27T20:02:57.675642Z",
     "iopub.status.idle": "2020-11-27T20:02:57.675642Z",
     "shell.execute_reply": "2020-11-27T20:02:57.675642Z"
    }
   },
   "outputs": [],
   "source": [
    "case = AF_CASES.iloc[2]\n",
    "\n",
    "RR = case[\"rr\"]\n",
    "#x_time = np.cumsum(RR)\n",
    "\n",
    "fig1, axs1 = plt.subplots(nrows=3, ncols=2, figsize=(12, 12))\n",
    "gs = axs1[2, 1].get_gridspec()\n",
    "axs1[0, 0].remove()\n",
    "\n",
    "Window = 1000\n",
    "overlap = 0.95\n",
    "means, var, skew, kurt = RR_Windowing(RR, Window, overlap)\n",
    "\n",
    "labels = [(i+i+Window)/2 for i in range(0, len(RR)-Window, int(Window*(1-overlap)))]\n",
    "\n",
    "# plot time signal (healthy):\n",
    "record = case['record']\n",
    "title = \"Señal RR:  Registro \"+record +\" (Fibrillacion Atrial)\"\n",
    "axbig = fig1.add_subplot(gs[0, :])\n",
    "axbig.set_title(title)\n",
    "axbig.plot(RR, color='C0')\n",
    "axbig.set_xlabel(\"Nò. Interlatido\")\n",
    "axbig.set_ylabel(\"R-R(segundos)\")\n",
    "    \n",
    "    \n",
    "# plot moments:\n",
    "axs1[1, 0].set_title(\"Media (Primer Momento)\")\n",
    "axs1[1, 0].plot(labels, means,color='C1')\n",
    "axs1[1, 0].set_xlabel(\"Nò. Interlatido\")\n",
    "\n",
    "axs1[1, 1].set_title(\"Varianza (Segundo Momento)\")\n",
    "axs1[1, 1].plot(labels, var, color='red')\n",
    "axs1[1, 1].set_xlabel(\"Nò. Interlatido\")\n",
    "\n",
    "axs1[2, 0].set_title(\"Sesgo (Tercer Momento)\")\n",
    "axs1[2, 0].plot(labels, skew, color='C2')\n",
    "axs1[2, 0].set_xlabel(\"Nò. Interlatido\")\n",
    "\n",
    "axs1[2, 1].set_title(\"Curtosis (Cuarto Momento)\")\n",
    "axs1[2, 1].plot(labels, kurt, color='cyan')\n",
    "axs1[2, 1].set_xlabel(\"No. Interlatido\")\n",
    "\n",
    "axs1[0, 1].remove()\n",
    "fig1.tight_layout()\n",
    "plt.show()"
   ]
  },
  {
   "cell_type": "markdown",
   "metadata": {},
   "source": [
    "## Windowing using Itertools "
   ]
  },
  {
   "cell_type": "code",
   "execution_count": null,
   "metadata": {
    "execution": {
     "iopub.status.busy": "2020-11-27T20:02:57.676645Z",
     "iopub.status.idle": "2020-11-27T20:02:57.677645Z",
     "shell.execute_reply": "2020-11-27T20:02:57.677645Z"
    },
    "scrolled": true,
    "tags": [
     "outputPrepend"
    ]
   },
   "outputs": [],
   "source": [
    "import itertools  \n",
    "\n",
    "print(np.array(case['rr']))\n",
    "# initializing list  \n",
    "RR = np.array(case['rr'])\n",
    "print (\"Length of RR signal: \", end =\"\") \n",
    "print(len(RR))\n",
    "\n",
    "fig, axs = plt.subplots(nrows=1, ncols=2, figsize=(30, 10))\n",
    "x=np.arange(len(RR))\n",
    "print(len(x))\n",
    "\n",
    "# using islice() to slice the list acc. to need  \n",
    "# starts printing from 2nd index till 6th skipping 2  \n",
    "print (\"The original vector is: \", end =\"\") \n",
    "\n",
    "print (\"The sliced list values are : \", end =\"\")  \n",
    "wsize = 100\n",
    "step = 1\n",
    "x1=np.arange(wsize)\n",
    "\n",
    "#for i in range(len(li)-(wsize-1)):\n",
    "    #print (list(itertools.islice(RR1, i, i+wsize, step)))\n",
    "    \n",
    "axs[0].plot(x,RR,color='blue')\n",
    "axs[1].plot(x1,list(itertools.islice(RR, 1, 1+wsize, step)),color='red')\n",
    "fig.show()\n",
    "    "
   ]
  },
  {
   "cell_type": "code",
   "execution_count": null,
   "metadata": {},
   "outputs": [],
   "source": []
  },
  {
   "cell_type": "code",
   "execution_count": null,
   "metadata": {},
   "outputs": [],
   "source": []
  },
  {
   "cell_type": "code",
   "execution_count": null,
   "metadata": {
    "execution": {
     "iopub.status.busy": "2020-11-27T20:02:57.678663Z",
     "iopub.status.idle": "2020-11-27T20:02:57.678663Z",
     "shell.execute_reply": "2020-11-27T20:02:57.678663Z"
    }
   },
   "outputs": [],
   "source": [
    "def RR_Windowing(rr_signal, w_len, over, mode=\"sample\"):\n",
    "    \"\"\"\n",
    "    rr_signal :: RR vector of time in seconds\n",
    "    w_time    :: Defines window time in seconds\n",
    "    over      :: Defines overlapping between windows\n",
    "    l_thresh  :: Gets lower threshold of window\n",
    "    mode      :: Sets mode of windowing;\n",
    "                    \"sample\" - Same sized windows, iterates by sample count.\n",
    "                    \"time\" - Variable sized windows, iterates over time window.\n",
    "\n",
    "    \"\"\"\n",
    "    means, var, skew, kurt = list(), list(), list(), list()\n",
    "    step = int(w_len*(1-over))\n",
    "    \n",
    "    if mode == \"time\":\n",
    "        time_vec = np.cumsum(rr_signal)\n",
    "        l_thresh = time_vec[0]\n",
    "        while l_thresh < max(time_vec)-w_len:\n",
    "            window = np.where(np.bitwise_and((l_thresh < time_vec), (time_vec < (l_thresh+w_len))))\n",
    "            rr_window = RR[window]\n",
    "            \n",
    "            ds = stats.describe(rr_window)\n",
    "            means.append(ds[2])\n",
    "            var.append(ds[3])\n",
    "            skew.append(ds[4])\n",
    "            kurt.append(ds[5])\n",
    "    \n",
    "            l_thresh += step\n",
    "\n",
    "    elif mode == \"sample\":\n",
    "        for rr_window in [rr_signal[i:i+w_len] for i in range(0, len(rr_signal)-w_len, step)]:\n",
    "            ds = stats.describe(rr_window)\n",
    "            means.append(ds[2])\n",
    "            var.append(ds[3])\n",
    "            skew.append(ds[4])\n",
    "            kurt.append(ds[5])\n",
    "    \n",
    "    return means, var, skew, kurt\n",
    "\n",
    "def add_points(row, mo_config=m_config):\n",
    "    ds = stats.describe(row[\"rr\"])\n",
    "    row[\"mean\"] = ds[2]\n",
    "    row[\"var\"] = ds[3]\n",
    "    row[\"skew\"] = ds[4]\n",
    "    row[\"kurt\"] = ds[5]\n",
    "    return row[[\"record\", \"conditon\", \"mean\", \"var\", \"skew\", \"kurt\"]]\n",
    "\n",
    "m_config = {\"window\": 1000, \"overlap\": 0.95}\n",
    "def add_moments(row, mo_config=m_config):\n",
    "    means, var, skew, kurt = RR_Windowing(row.rr, m_config[\"window\"], m_config[\"overlap\"])\n",
    "    row[\"M1\"] = means\n",
    "    row[\"M2\"] = var\n",
    "    row[\"M3\"] = skew\n",
    "    row[\"M4\"] = kurt\n",
    "    row[\"CV\"] = np.divide(var, means)\n",
    "    return row[[\"record\", \"conditon\", \"\"]]\n",
    "\n",
    "def get_one_stats(data, condition, moment):\n",
    "    SERIES = list()\n",
    "    for record in data[data[\"conditon\"] == \"AF\"][\"record\"].unique():\n",
    "        CASE = data[(data[\"record\"] == record) & (data[\"length\"] > 5000)]\n",
    "        if CASE is None:\n",
    "            continue\n",
    "            \n",
    "        SERIES.append(CASE[moment].apply(pd.Series).stack().describe().to_frame(name=record))\n",
    "    return pd.concat(SERIES, axis=1).round(5)"
   ]
  },
  {
   "cell_type": "code",
   "execution_count": null,
   "metadata": {
    "execution": {
     "iopub.status.busy": "2020-11-27T20:02:57.679642Z",
     "iopub.status.idle": "2020-11-27T20:02:57.679642Z",
     "shell.execute_reply": "2020-11-27T20:02:57.679642Z"
    }
   },
   "outputs": [],
   "source": [
    "def add_points(row, mo_config=m_config):\n",
    "    ds = stats.describe(row[\"rr\"])\n",
    "    row[\"mean\"] = ds[2]\n",
    "    row[\"var\"] = ds[3]\n",
    "    row[\"skew\"] = ds[4]\n",
    "    row[\"kurt\"] = ds[5]\n",
    "    return row[[\"record\", \"conditon\", \"mean\", \"var\", \"skew\", \"kurt\"]]\n",
    "SCATER_DATA = data[data[\"length\"] > 5000].apply(add_points, axis=1)"
   ]
  },
  {
   "cell_type": "code",
   "execution_count": null,
   "metadata": {
    "execution": {
     "iopub.status.busy": "2020-11-27T20:02:57.680659Z",
     "iopub.status.idle": "2020-11-27T20:02:57.680659Z",
     "shell.execute_reply": "2020-11-27T20:02:57.680659Z"
    }
   },
   "outputs": [],
   "source": [
    "MAf=list(SCATER_DATA[SCATER_DATA[\"conditon\"]==\"AF\"][\"mean\"])\n",
    "VAf=list(SCATER_DATA[SCATER_DATA[\"conditon\"]==\"AF\"][\"var\"])\n",
    "SAf=list(SCATER_DATA[SCATER_DATA[\"conditon\"]==\"AF\"][\"skew\"])\n",
    "\n",
    "MCHF=list(SCATER_DATA[SCATER_DATA[\"conditon\"]==\"CHF\"][\"mean\"])\n",
    "VCHF=list(SCATER_DATA[SCATER_DATA[\"conditon\"]==\"CHF\"][\"var\"])\n",
    "SCHF=list(SCATER_DATA[SCATER_DATA[\"conditon\"]==\"CHF\"][\"skew\"])\n",
    "\n",
    "MHC=list(SCATER_DATA[SCATER_DATA[\"conditon\"]==\"HC\"][\"mean\"])\n",
    "VHC=list(SCATER_DATA[SCATER_DATA[\"conditon\"]==\"HC\"][\"var\"])\n",
    "SVHC=list(SCATER_DATA[SCATER_DATA[\"conditon\"]==\"HC\"][\"skew\"])\n",
    "\n",
    "#colors=(\"red\", \"green\", \"blue\")\n",
    "#fig = plt.figure()\n",
    "\n",
    "ax = fig.add_subplot(111, projection='3d')\n",
    "\n",
    "#for color in colors:\n",
    "    #ax.scatter(MAf, VAf, SAf,c=color)\n",
    "\n",
    "plt.scatter(VAf, SAf, s=None, c='red', marker=\".\", cmap=None, norm=None, vmin=None, vmax=None, alpha=None,label=\"FA\")\n",
    "plt.scatter(VCHF, SCHF, s=None, c='green', marker=\"v\", cmap=None, norm=None, vmin=None, vmax=None, alpha=None,label=\"ICC\")\n",
    "plt.scatter(VHC, SVHC, s=None, c='blue', marker=\"x\", cmap=None, norm=None, vmin=None, vmax=None, alpha=None,label=\"Sano\")\n",
    "\n",
    "plt.xlabel(\"Varianza\")\n",
    "plt.ylabel(\"Sesgo\")\n",
    "\n",
    "\n",
    "plt.legend()\n",
    "\n"
   ]
  },
  {
   "cell_type": "markdown",
   "metadata": {},
   "source": [
    "## Función de Mapa de Poincaré"
   ]
  },
  {
   "cell_type": "code",
   "execution_count": null,
   "metadata": {
    "execution": {
     "iopub.status.busy": "2020-11-27T20:02:57.680659Z",
     "iopub.status.idle": "2020-11-27T20:02:57.681651Z",
     "shell.execute_reply": "2020-11-27T20:02:57.681651Z"
    }
   },
   "outputs": [],
   "source": [
    "fs = 125"
   ]
  },
  {
   "cell_type": "code",
   "execution_count": null,
   "metadata": {
    "execution": {
     "iopub.status.busy": "2020-11-27T20:02:57.681651Z",
     "iopub.status.idle": "2020-11-27T20:02:57.681651Z",
     "shell.execute_reply": "2020-11-27T20:02:57.681651Z"
    }
   },
   "outputs": [],
   "source": [
    "60/220"
   ]
  },
  {
   "cell_type": "code",
   "execution_count": null,
   "metadata": {
    "execution": {
     "iopub.status.busy": "2020-11-27T20:02:57.682642Z",
     "iopub.status.idle": "2020-11-27T20:02:57.683659Z",
     "shell.execute_reply": "2020-11-27T20:02:57.683659Z"
    }
   },
   "outputs": [],
   "source": [
    "type(slice(2, 3))"
   ]
  },
  {
   "cell_type": "code",
   "execution_count": null,
   "metadata": {
    "execution": {
     "iopub.status.busy": "2020-11-27T20:02:57.684659Z",
     "iopub.status.idle": "2020-11-27T20:02:57.684659Z",
     "shell.execute_reply": "2020-11-27T20:02:57.684659Z"
    }
   },
   "outputs": [],
   "source": [
    "slice(2)"
   ]
  }
 ],
 "metadata": {
  "kernelspec": {
   "display_name": "Python 3",
   "language": "python",
   "name": "python3"
  },
  "language_info": {
   "codemirror_mode": {
    "name": "ipython",
    "version": 3
   },
   "file_extension": ".py",
   "mimetype": "text/x-python",
   "name": "python",
   "nbconvert_exporter": "python",
   "pygments_lexer": "ipython3",
   "version": "3.8.5"
  }
 },
 "nbformat": 4,
 "nbformat_minor": 4
}
