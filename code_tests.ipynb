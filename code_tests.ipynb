{
 "cells": [
  {
   "cell_type": "code",
   "execution_count": 1,
   "metadata": {
    "execution": {
     "iopub.execute_input": "2020-11-25T04:36:56.434046Z",
     "iopub.status.busy": "2020-11-25T04:36:56.434046Z",
     "iopub.status.idle": "2020-11-25T04:36:58.637046Z",
     "shell.execute_reply": "2020-11-25T04:36:58.636045Z",
     "shell.execute_reply.started": "2020-11-25T04:36:56.434046Z"
    }
   },
   "outputs": [],
   "source": [
    "from TT_utilities import Case\n",
    "from pathlib import Path\n",
    "import re"
   ]
  },
  {
   "cell_type": "code",
   "execution_count": 2,
   "metadata": {
    "execution": {
     "iopub.execute_input": "2020-11-25T04:36:58.638048Z",
     "iopub.status.busy": "2020-11-25T04:36:58.638048Z",
     "iopub.status.idle": "2020-11-25T04:37:00.457045Z",
     "shell.execute_reply": "2020-11-25T04:37:00.457045Z",
     "shell.execute_reply.started": "2020-11-25T04:36:58.638048Z"
    }
   },
   "outputs": [],
   "source": [
    "RECORD_DIRS = list(Path(\"./Data\").glob(\"*p00*\"))\n",
    "for record_dir in RECORD_DIRS:\n",
    "    record_name = re.search(\"p[0-9]{6}\", str(record_dir))[0]\n",
    "    case = Case(record_dir.joinpath(record_name))"
   ]
  },
  {
   "cell_type": "code",
   "execution_count": 3,
   "metadata": {
    "execution": {
     "iopub.execute_input": "2020-11-25T04:37:00.461051Z",
     "iopub.status.busy": "2020-11-25T04:37:00.461051Z",
     "iopub.status.idle": "2020-11-25T04:37:00.474050Z",
     "shell.execute_reply": "2020-11-25T04:37:00.473052Z",
     "shell.execute_reply.started": "2020-11-25T04:37:00.461051Z"
    }
   },
   "outputs": [
    {
     "data": {
      "text/plain": [
       "'p001354'"
      ]
     },
     "execution_count": 3,
     "metadata": {},
     "output_type": "execute_result"
    }
   ],
   "source": [
    "record_name"
   ]
  },
  {
   "cell_type": "code",
   "execution_count": 4,
   "metadata": {
    "execution": {
     "iopub.execute_input": "2020-11-25T04:37:00.478050Z",
     "iopub.status.busy": "2020-11-25T04:37:00.477052Z",
     "iopub.status.idle": "2020-11-25T04:37:00.567062Z",
     "shell.execute_reply": "2020-11-25T04:37:00.567062Z",
     "shell.execute_reply.started": "2020-11-25T04:37:00.477052Z"
    }
   },
   "outputs": [
    {
     "data": {
      "text/plain": [
       "'Data\\\\atrial_fibrillation_p001354\\\\p001354'"
      ]
     },
     "execution_count": 4,
     "metadata": {},
     "output_type": "execute_result"
    }
   ],
   "source": [
    "a = str(RECORD_DIRS[-1].joinpath(record_name))\n",
    "a"
   ]
  },
  {
   "cell_type": "code",
   "execution_count": 5,
   "metadata": {
    "execution": {
     "iopub.execute_input": "2020-11-25T04:37:00.568047Z",
     "iopub.status.busy": "2020-11-25T04:37:00.568047Z",
     "iopub.status.idle": "2020-11-25T04:37:00.662532Z",
     "shell.execute_reply": "2020-11-25T04:37:00.661532Z",
     "shell.execute_reply.started": "2020-11-25T04:37:00.568047Z"
    }
   },
   "outputs": [
    {
     "data": {
      "text/plain": [
       "'atrial_fibrillation'"
      ]
     },
     "execution_count": 5,
     "metadata": {},
     "output_type": "execute_result"
    }
   ],
   "source": [
    "pathology_regex = f\"([a-z_]*)(_{record_name})\"\n",
    "K = re.search(pathology_regex, a).groups()[0]\n",
    "K"
   ]
  },
  {
   "cell_type": "code",
   "execution_count": 6,
   "metadata": {
    "execution": {
     "iopub.execute_input": "2020-11-25T04:37:00.663531Z",
     "iopub.status.busy": "2020-11-25T04:37:00.663531Z",
     "iopub.status.idle": "2020-11-25T04:37:01.249123Z",
     "shell.execute_reply": "2020-11-25T04:37:01.248171Z",
     "shell.execute_reply.started": "2020-11-25T04:37:00.663531Z"
    }
   },
   "outputs": [
    {
     "ename": "AttributeError",
     "evalue": "'str' object has no attribute 'groups'",
     "output_type": "error",
     "traceback": [
      "\u001b[1;31m---------------------------------------------------------------------------\u001b[0m",
      "\u001b[1;31mAttributeError\u001b[0m                            Traceback (most recent call last)",
      "\u001b[1;32m<ipython-input-6-fd21e125b0a6>\u001b[0m in \u001b[0;36m<module>\u001b[1;34m\u001b[0m\n\u001b[1;32m----> 1\u001b[1;33m \u001b[0mK\u001b[0m\u001b[1;33m.\u001b[0m\u001b[0mgroups\u001b[0m\u001b[1;33m(\u001b[0m\u001b[1;33m)\u001b[0m\u001b[1;33m[\u001b[0m\u001b[1;36m0\u001b[0m\u001b[1;33m]\u001b[0m\u001b[1;33m\u001b[0m\u001b[1;33m\u001b[0m\u001b[0m\n\u001b[0m",
      "\u001b[1;31mAttributeError\u001b[0m: 'str' object has no attribute 'groups'"
     ]
    }
   ],
   "source": [
    "K.groups()[0]"
   ]
  },
  {
   "cell_type": "code",
   "execution_count": null,
   "metadata": {
    "execution": {
     "iopub.status.busy": "2020-11-25T04:37:01.249123Z",
     "iopub.status.idle": "2020-11-25T04:37:01.250143Z",
     "shell.execute_reply": "2020-11-25T04:37:01.249123Z"
    }
   },
   "outputs": [],
   "source": [
    "for k in K.groups():\n",
    "    print(k)"
   ]
  },
  {
   "cell_type": "code",
   "execution_count": 8,
   "metadata": {
    "execution": {
     "iopub.execute_input": "2020-11-25T04:37:18.986428Z",
     "iopub.status.busy": "2020-11-25T04:37:18.986428Z",
     "iopub.status.idle": "2020-11-25T04:37:18.992420Z",
     "shell.execute_reply": "2020-11-25T04:37:18.991410Z",
     "shell.execute_reply.started": "2020-11-25T04:37:18.986428Z"
    }
   },
   "outputs": [
    {
     "data": {
      "text/plain": [
       "'p001354'"
      ]
     },
     "execution_count": 8,
     "metadata": {},
     "output_type": "execute_result"
    }
   ],
   "source": [
    "\n"
   ]
  },
  {
   "cell_type": "code",
   "execution_count": null,
   "metadata": {},
   "outputs": [],
   "source": []
  },
  {
   "cell_type": "code",
   "execution_count": null,
   "metadata": {},
   "outputs": [],
   "source": []
  },
  {
   "cell_type": "code",
   "execution_count": null,
   "metadata": {},
   "outputs": [],
   "source": []
  },
  {
   "cell_type": "code",
   "execution_count": null,
   "metadata": {},
   "outputs": [],
   "source": []
  },
  {
   "cell_type": "code",
   "execution_count": null,
   "metadata": {},
   "outputs": [],
   "source": []
  },
  {
   "cell_type": "code",
   "execution_count": null,
   "metadata": {},
   "outputs": [],
   "source": []
  }
 ],
 "metadata": {
  "kernelspec": {
   "display_name": "Python 3",
   "language": "python",
   "name": "python3"
  },
  "language_info": {
   "codemirror_mode": {
    "name": "ipython",
    "version": 3
   },
   "file_extension": ".py",
   "mimetype": "text/x-python",
   "name": "python",
   "nbconvert_exporter": "python",
   "pygments_lexer": "ipython3",
   "version": "3.8.5"
  }
 },
 "nbformat": 4,
 "nbformat_minor": 4
}
